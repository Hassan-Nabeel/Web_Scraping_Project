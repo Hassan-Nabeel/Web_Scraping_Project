{
 "cells": [
  {
   "cell_type": "code",
   "execution_count": 1,
   "id": "f064dac2",
   "metadata": {},
   "outputs": [],
   "source": [
    "import requests\n",
    "import pandas as pd\n",
    "from tqdm import tqdm"
   ]
  },
  {
   "cell_type": "code",
   "execution_count": 2,
   "id": "939a9ea2",
   "metadata": {},
   "outputs": [
    {
     "data": {
      "text/html": [
       "<div>\n",
       "<style scoped>\n",
       "    .dataframe tbody tr th:only-of-type {\n",
       "        vertical-align: middle;\n",
       "    }\n",
       "\n",
       "    .dataframe tbody tr th {\n",
       "        vertical-align: top;\n",
       "    }\n",
       "\n",
       "    .dataframe thead th {\n",
       "        text-align: right;\n",
       "    }\n",
       "</style>\n",
       "<table border=\"1\" class=\"dataframe\">\n",
       "  <thead>\n",
       "    <tr style=\"text-align: right;\">\n",
       "      <th></th>\n",
       "      <th>img_link</th>\n",
       "      <th>tags</th>\n",
       "      <th>likes</th>\n",
       "      <th>comments</th>\n",
       "    </tr>\n",
       "  </thead>\n",
       "  <tbody>\n",
       "    <tr>\n",
       "      <th>0</th>\n",
       "      <td>https://cdn.pixabay.com/photo/2022/03/06/05/30...</td>\n",
       "      <td>Clouds, Sky, Atmosphere, Blue Sky</td>\n",
       "      <td>196</td>\n",
       "      <td>55</td>\n",
       "    </tr>\n",
       "    <tr>\n",
       "      <th>1</th>\n",
       "      <td>https://cdn.pixabay.com/photo/2022/04/07/11/45...</td>\n",
       "      <td>Bird, Ornithology, Hummingbird</td>\n",
       "      <td>76</td>\n",
       "      <td>55</td>\n",
       "    </tr>\n",
       "    <tr>\n",
       "      <th>2</th>\n",
       "      <td>https://cdn.pixabay.com/photo/2022/02/28/15/28...</td>\n",
       "      <td>Sea, Rainbow, Rainfall, Subtropical</td>\n",
       "      <td>282</td>\n",
       "      <td>55</td>\n",
       "    </tr>\n",
       "    <tr>\n",
       "      <th>3</th>\n",
       "      <td>https://cdn.pixabay.com/photo/2022/04/04/02/52...</td>\n",
       "      <td>Cherry Blossoms, Road, Japan, Sakura</td>\n",
       "      <td>42</td>\n",
       "      <td>55</td>\n",
       "    </tr>\n",
       "    <tr>\n",
       "      <th>4</th>\n",
       "      <td>https://cdn.pixabay.com/photo/2022/04/09/18/06...</td>\n",
       "      <td>Cape Marguerite, Flower, Plant</td>\n",
       "      <td>39</td>\n",
       "      <td>55</td>\n",
       "    </tr>\n",
       "  </tbody>\n",
       "</table>\n",
       "</div>"
      ],
      "text/plain": [
       "                                            img_link  \\\n",
       "0  https://cdn.pixabay.com/photo/2022/03/06/05/30...   \n",
       "1  https://cdn.pixabay.com/photo/2022/04/07/11/45...   \n",
       "2  https://cdn.pixabay.com/photo/2022/02/28/15/28...   \n",
       "3  https://cdn.pixabay.com/photo/2022/04/04/02/52...   \n",
       "4  https://cdn.pixabay.com/photo/2022/04/09/18/06...   \n",
       "\n",
       "                                   tags  likes  comments  \n",
       "0     Clouds, Sky, Atmosphere, Blue Sky    196        55  \n",
       "1        Bird, Ornithology, Hummingbird     76        55  \n",
       "2   Sea, Rainbow, Rainfall, Subtropical    282        55  \n",
       "3  Cherry Blossoms, Road, Japan, Sakura     42        55  \n",
       "4        Cape Marguerite, Flower, Plant     39        55  "
      ]
     },
     "execution_count": 2,
     "metadata": {},
     "output_type": "execute_result"
    }
   ],
   "source": [
    "df = pd.read_csv('images.csv')\n",
    "df.head()"
   ]
  },
  {
   "cell_type": "markdown",
   "id": "dd741d65",
   "metadata": {},
   "source": [
    "### Defining Dynamic Name"
   ]
  },
  {
   "cell_type": "code",
   "execution_count": 9,
   "id": "8fdc8d90",
   "metadata": {},
   "outputs": [
    {
     "name": "stdout",
     "output_type": "stream",
     "text": [
      "A0001\n",
      "A0002\n",
      "A0003\n",
      "A0004\n",
      "A0005\n",
      "A0006\n",
      "A0007\n",
      "A0008\n",
      "A0009\n"
     ]
    }
   ],
   "source": [
    "ref = 10000\n",
    "for i in range(1,10):\n",
    "    print('A' + str(i + ref)[1:])"
   ]
  },
  {
   "cell_type": "markdown",
   "id": "5bfe6fcc",
   "metadata": {},
   "source": [
    "### Defining Image Downloader Function"
   ]
  },
  {
   "cell_type": "code",
   "execution_count": 11,
   "id": "5b457128",
   "metadata": {},
   "outputs": [
    {
     "data": {
      "text/plain": [
       "'https://cdn.pixabay.com/photo/2022/03/06/05/30/clouds-7050884__480.jpg'"
      ]
     },
     "execution_count": 11,
     "metadata": {},
     "output_type": "execute_result"
    }
   ],
   "source": [
    "df['img_link'][0]"
   ]
  },
  {
   "cell_type": "code",
   "execution_count": 13,
   "id": "f0af6882",
   "metadata": {},
   "outputs": [],
   "source": [
    "def download(link, img_path ):\n",
    "\n",
    "    res = requests.get(link)         # Sending the Request\n",
    "    fd = open(img_path,'wb')         # Getting Image in WB Format\n",
    "    fd.write(res.content)            # Saving the Image\n",
    "    fd.close()\n",
    "    "
   ]
  },
  {
   "cell_type": "code",
   "execution_count": 14,
   "id": "4ef985e6",
   "metadata": {},
   "outputs": [],
   "source": [
    "download('https://cdn.pixabay.com/photo/2022/03/06/05/30/clouds-7050884__480.jpg', 'img.png')"
   ]
  },
  {
   "cell_type": "markdown",
   "id": "a8bbbbb2",
   "metadata": {},
   "source": [
    "### Downloading all Images"
   ]
  },
  {
   "cell_type": "code",
   "execution_count": 16,
   "id": "0505cf7c",
   "metadata": {},
   "outputs": [
    {
     "name": "stderr",
     "output_type": "stream",
     "text": [
      "100%|██████████████████████████████████████████████████████████████████████████████| 1635/1635 [07:26<00:00,  3.66it/s]\n"
     ]
    }
   ],
   "source": [
    "paths   = []\n",
    "img_ids = []\n",
    "\n",
    "ref = 100000\n",
    "i   = 1\n",
    "\n",
    "for link in tqdm(df['img_link']):\n",
    "    \n",
    "    img_id = 'A' + str(i + ref)[1:]          # Creating Image ID\n",
    "    i += 1\n",
    "    \n",
    "    img_path = 'Imgs/' + img_id + '.jpg'    # Creating Image Path\n",
    "    \n",
    "    download(link, img_path)                # Downloading the Image\n",
    "    \n",
    "    paths.append(img_path)\n",
    "    img_ids.append(img_id)"
   ]
  },
  {
   "cell_type": "markdown",
   "id": "2a5ff310",
   "metadata": {},
   "source": [
    "### Saving Ids and Paths in DataFrame"
   ]
  },
  {
   "cell_type": "code",
   "execution_count": 17,
   "id": "759f736e",
   "metadata": {},
   "outputs": [
    {
     "data": {
      "text/html": [
       "<div>\n",
       "<style scoped>\n",
       "    .dataframe tbody tr th:only-of-type {\n",
       "        vertical-align: middle;\n",
       "    }\n",
       "\n",
       "    .dataframe tbody tr th {\n",
       "        vertical-align: top;\n",
       "    }\n",
       "\n",
       "    .dataframe thead th {\n",
       "        text-align: right;\n",
       "    }\n",
       "</style>\n",
       "<table border=\"1\" class=\"dataframe\">\n",
       "  <thead>\n",
       "    <tr style=\"text-align: right;\">\n",
       "      <th></th>\n",
       "      <th>img_link</th>\n",
       "      <th>tags</th>\n",
       "      <th>likes</th>\n",
       "      <th>comments</th>\n",
       "      <th>img_id</th>\n",
       "      <th>img_path</th>\n",
       "    </tr>\n",
       "  </thead>\n",
       "  <tbody>\n",
       "    <tr>\n",
       "      <th>0</th>\n",
       "      <td>https://cdn.pixabay.com/photo/2022/03/06/05/30...</td>\n",
       "      <td>Clouds, Sky, Atmosphere, Blue Sky</td>\n",
       "      <td>196</td>\n",
       "      <td>55</td>\n",
       "      <td>A00001</td>\n",
       "      <td>Imgs/A00001.jpg</td>\n",
       "    </tr>\n",
       "    <tr>\n",
       "      <th>1</th>\n",
       "      <td>https://cdn.pixabay.com/photo/2022/04/07/11/45...</td>\n",
       "      <td>Bird, Ornithology, Hummingbird</td>\n",
       "      <td>76</td>\n",
       "      <td>55</td>\n",
       "      <td>A00002</td>\n",
       "      <td>Imgs/A00002.jpg</td>\n",
       "    </tr>\n",
       "    <tr>\n",
       "      <th>2</th>\n",
       "      <td>https://cdn.pixabay.com/photo/2022/02/28/15/28...</td>\n",
       "      <td>Sea, Rainbow, Rainfall, Subtropical</td>\n",
       "      <td>282</td>\n",
       "      <td>55</td>\n",
       "      <td>A00003</td>\n",
       "      <td>Imgs/A00003.jpg</td>\n",
       "    </tr>\n",
       "    <tr>\n",
       "      <th>3</th>\n",
       "      <td>https://cdn.pixabay.com/photo/2022/04/04/02/52...</td>\n",
       "      <td>Cherry Blossoms, Road, Japan, Sakura</td>\n",
       "      <td>42</td>\n",
       "      <td>55</td>\n",
       "      <td>A00004</td>\n",
       "      <td>Imgs/A00004.jpg</td>\n",
       "    </tr>\n",
       "    <tr>\n",
       "      <th>4</th>\n",
       "      <td>https://cdn.pixabay.com/photo/2022/04/09/18/06...</td>\n",
       "      <td>Cape Marguerite, Flower, Plant</td>\n",
       "      <td>39</td>\n",
       "      <td>55</td>\n",
       "      <td>A00005</td>\n",
       "      <td>Imgs/A00005.jpg</td>\n",
       "    </tr>\n",
       "  </tbody>\n",
       "</table>\n",
       "</div>"
      ],
      "text/plain": [
       "                                            img_link  \\\n",
       "0  https://cdn.pixabay.com/photo/2022/03/06/05/30...   \n",
       "1  https://cdn.pixabay.com/photo/2022/04/07/11/45...   \n",
       "2  https://cdn.pixabay.com/photo/2022/02/28/15/28...   \n",
       "3  https://cdn.pixabay.com/photo/2022/04/04/02/52...   \n",
       "4  https://cdn.pixabay.com/photo/2022/04/09/18/06...   \n",
       "\n",
       "                                   tags  likes  comments  img_id  \\\n",
       "0     Clouds, Sky, Atmosphere, Blue Sky    196        55  A00001   \n",
       "1        Bird, Ornithology, Hummingbird     76        55  A00002   \n",
       "2   Sea, Rainbow, Rainfall, Subtropical    282        55  A00003   \n",
       "3  Cherry Blossoms, Road, Japan, Sakura     42        55  A00004   \n",
       "4        Cape Marguerite, Flower, Plant     39        55  A00005   \n",
       "\n",
       "          img_path  \n",
       "0  Imgs/A00001.jpg  \n",
       "1  Imgs/A00002.jpg  \n",
       "2  Imgs/A00003.jpg  \n",
       "3  Imgs/A00004.jpg  \n",
       "4  Imgs/A00005.jpg  "
      ]
     },
     "execution_count": 17,
     "metadata": {},
     "output_type": "execute_result"
    }
   ],
   "source": [
    "df['img_id']   = img_ids\n",
    "df['img_path'] = paths\n",
    "\n",
    "df.head()"
   ]
  },
  {
   "cell_type": "code",
   "execution_count": 19,
   "id": "03165d14",
   "metadata": {},
   "outputs": [
    {
     "data": {
      "text/plain": [
       "img_link    0\n",
       "tags        0\n",
       "likes       0\n",
       "comments    0\n",
       "img_id      0\n",
       "img_path    0\n",
       "dtype: int64"
      ]
     },
     "execution_count": 19,
     "metadata": {},
     "output_type": "execute_result"
    }
   ],
   "source": [
    "df.isna().sum()"
   ]
  },
  {
   "cell_type": "code",
   "execution_count": null,
   "id": "7e1b81f4",
   "metadata": {},
   "outputs": [],
   "source": []
  },
  {
   "cell_type": "markdown",
   "id": "9eb18a34",
   "metadata": {},
   "source": [
    "### Saving Final Dataset"
   ]
  },
  {
   "cell_type": "code",
   "execution_count": null,
   "id": "87526721",
   "metadata": {},
   "outputs": [],
   "source": []
  }
 ],
 "metadata": {
  "kernelspec": {
   "display_name": "Python 3 (ipykernel)",
   "language": "python",
   "name": "python3"
  },
  "language_info": {
   "codemirror_mode": {
    "name": "ipython",
    "version": 3
   },
   "file_extension": ".py",
   "mimetype": "text/x-python",
   "name": "python",
   "nbconvert_exporter": "python",
   "pygments_lexer": "ipython3",
   "version": "3.12.4"
  }
 },
 "nbformat": 4,
 "nbformat_minor": 5
}
