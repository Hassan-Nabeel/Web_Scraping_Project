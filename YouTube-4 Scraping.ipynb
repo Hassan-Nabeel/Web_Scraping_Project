{
 "cells": [
  {
   "cell_type": "markdown",
   "id": "2a9a2e64",
   "metadata": {},
   "source": [
    "## Automating the process of scraping details of each videos from GFG YouTube videos"
   ]
  },
  {
   "cell_type": "code",
   "execution_count": 1,
   "id": "3725194e",
   "metadata": {},
   "outputs": [],
   "source": [
    "import chromedriver_binary\n",
    "from selenium import webdriver\n",
    "from bs4 import BeautifulSoup\n",
    "from tqdm import tqdm\n",
    "\n",
    "import numpy as np\n",
    "import pandas as pd\n",
    "import time"
   ]
  },
  {
   "cell_type": "code",
   "execution_count": 2,
   "id": "6a0b44c6",
   "metadata": {},
   "outputs": [],
   "source": [
    "df = pd.read_csv('data1.csv')"
   ]
  },
  {
   "cell_type": "code",
   "execution_count": 3,
   "id": "08c36d9b",
   "metadata": {},
   "outputs": [
    {
     "data": {
      "text/html": [
       "<div>\n",
       "<style scoped>\n",
       "    .dataframe tbody tr th:only-of-type {\n",
       "        vertical-align: middle;\n",
       "    }\n",
       "\n",
       "    .dataframe tbody tr th {\n",
       "        vertical-align: top;\n",
       "    }\n",
       "\n",
       "    .dataframe thead th {\n",
       "        text-align: right;\n",
       "    }\n",
       "</style>\n",
       "<table border=\"1\" class=\"dataframe\">\n",
       "  <thead>\n",
       "    <tr style=\"text-align: right;\">\n",
       "      <th></th>\n",
       "      <th>title</th>\n",
       "      <th>video_link</th>\n",
       "      <th>views</th>\n",
       "      <th>date</th>\n",
       "      <th>thumbnail_link</th>\n",
       "    </tr>\n",
       "  </thead>\n",
       "  <tbody>\n",
       "    <tr>\n",
       "      <th>0</th>\n",
       "      <td>Learn Selection Sort Algorithm | @SandeepJainG...</td>\n",
       "      <td>https://www.youtube.com/watch?v=WYVKZ4Mla5c</td>\n",
       "      <td>86 views</td>\n",
       "      <td>19 minutes ago</td>\n",
       "      <td>https://i.ytimg.com/vi/WYVKZ4Mla5c/hqdefault.jpg</td>\n",
       "    </tr>\n",
       "    <tr>\n",
       "      <th>1</th>\n",
       "      <td>Learn Bubble Sort in 12 minutes | @SandeepJain...</td>\n",
       "      <td>https://www.youtube.com/watch?v=dMonTS71mEY</td>\n",
       "      <td>799 views</td>\n",
       "      <td>3 days ago</td>\n",
       "      <td>https://i.ytimg.com/vi/dMonTS71mEY/hqdefault.jpg</td>\n",
       "    </tr>\n",
       "    <tr>\n",
       "      <th>2</th>\n",
       "      <td>Lecture-6 Learn Stability in SORTING - Beginne...</td>\n",
       "      <td>https://www.youtube.com/watch?v=voH3da1RvbA</td>\n",
       "      <td>532 views</td>\n",
       "      <td>4 days ago</td>\n",
       "      <td>https://i.ytimg.com/vi/voH3da1RvbA/hqdefault.jpg</td>\n",
       "    </tr>\n",
       "    <tr>\n",
       "      <th>3</th>\n",
       "      <td>GeeksforGeeks Classroom Program | Delhi/NCR | ...</td>\n",
       "      <td>https://www.youtube.com/watch?v=-R64PWJPf2k</td>\n",
       "      <td>1K views</td>\n",
       "      <td>4 days ago</td>\n",
       "      <td>https://i.ytimg.com/vi/-R64PWJPf2k/hqdefault.jpg</td>\n",
       "    </tr>\n",
       "    <tr>\n",
       "      <th>4</th>\n",
       "      <td>Lecture-5 Mastering Sorting Algorithms with Ja...</td>\n",
       "      <td>https://www.youtube.com/watch?v=VSy4TN2jyzE</td>\n",
       "      <td>917 views</td>\n",
       "      <td>6 days ago</td>\n",
       "      <td>https://i.ytimg.com/vi/VSy4TN2jyzE/hqdefault.jpg</td>\n",
       "    </tr>\n",
       "    <tr>\n",
       "      <th>...</th>\n",
       "      <td>...</td>\n",
       "      <td>...</td>\n",
       "      <td>...</td>\n",
       "      <td>...</td>\n",
       "      <td>...</td>\n",
       "    </tr>\n",
       "    <tr>\n",
       "      <th>1827</th>\n",
       "      <td>Length of shortest chain to reach a target wor...</td>\n",
       "      <td>https://www.youtube.com/watch?v=6pIC20wCm20</td>\n",
       "      <td>43K views</td>\n",
       "      <td>8 years ago</td>\n",
       "      <td>https://i.ytimg.com/vi/6pIC20wCm20/hqdefault.jpg</td>\n",
       "    </tr>\n",
       "    <tr>\n",
       "      <th>1828</th>\n",
       "      <td>Binary Search | GeeksQuiz</td>\n",
       "      <td>https://www.youtube.com/watch?v=T2sFYY-fT5o</td>\n",
       "      <td>191K views</td>\n",
       "      <td>8 years ago</td>\n",
       "      <td>https://i.ytimg.com/vi/T2sFYY-fT5o/hqdefault.jpg</td>\n",
       "    </tr>\n",
       "    <tr>\n",
       "      <th>1829</th>\n",
       "      <td>Number of Triangles in an Undirected Graph | G...</td>\n",
       "      <td>https://www.youtube.com/watch?v=ChdNz1Ui1uc</td>\n",
       "      <td>19K views</td>\n",
       "      <td>8 years ago</td>\n",
       "      <td>https://i.ytimg.com/vi/ChdNz1Ui1uc/hqdefault.jpg</td>\n",
       "    </tr>\n",
       "    <tr>\n",
       "      <th>1830</th>\n",
       "      <td>Write a program to print all permutations of a...</td>\n",
       "      <td>https://www.youtube.com/watch?v=AfxHGNRtFac</td>\n",
       "      <td>487K views</td>\n",
       "      <td>8 years ago</td>\n",
       "      <td>https://i.ytimg.com/vi/AfxHGNRtFac/hqdefault.jpg</td>\n",
       "    </tr>\n",
       "    <tr>\n",
       "      <th>1831</th>\n",
       "      <td>Longest Span with same Sum in two Binary array...</td>\n",
       "      <td>https://www.youtube.com/watch?v=xtfj4-r_Ahs</td>\n",
       "      <td>300K views</td>\n",
       "      <td>8 years ago</td>\n",
       "      <td>https://i.ytimg.com/vi/xtfj4-r_Ahs/hqdefault.jpg</td>\n",
       "    </tr>\n",
       "  </tbody>\n",
       "</table>\n",
       "<p>1832 rows × 5 columns</p>\n",
       "</div>"
      ],
      "text/plain": [
       "                                                  title  \\\n",
       "0     Learn Selection Sort Algorithm | @SandeepJainG...   \n",
       "1     Learn Bubble Sort in 12 minutes | @SandeepJain...   \n",
       "2     Lecture-6 Learn Stability in SORTING - Beginne...   \n",
       "3     GeeksforGeeks Classroom Program | Delhi/NCR | ...   \n",
       "4     Lecture-5 Mastering Sorting Algorithms with Ja...   \n",
       "...                                                 ...   \n",
       "1827  Length of shortest chain to reach a target wor...   \n",
       "1828                          Binary Search | GeeksQuiz   \n",
       "1829  Number of Triangles in an Undirected Graph | G...   \n",
       "1830  Write a program to print all permutations of a...   \n",
       "1831  Longest Span with same Sum in two Binary array...   \n",
       "\n",
       "                                       video_link       views            date  \\\n",
       "0     https://www.youtube.com/watch?v=WYVKZ4Mla5c    86 views  19 minutes ago   \n",
       "1     https://www.youtube.com/watch?v=dMonTS71mEY   799 views      3 days ago   \n",
       "2     https://www.youtube.com/watch?v=voH3da1RvbA   532 views      4 days ago   \n",
       "3     https://www.youtube.com/watch?v=-R64PWJPf2k    1K views      4 days ago   \n",
       "4     https://www.youtube.com/watch?v=VSy4TN2jyzE   917 views      6 days ago   \n",
       "...                                           ...         ...             ...   \n",
       "1827  https://www.youtube.com/watch?v=6pIC20wCm20   43K views     8 years ago   \n",
       "1828  https://www.youtube.com/watch?v=T2sFYY-fT5o  191K views     8 years ago   \n",
       "1829  https://www.youtube.com/watch?v=ChdNz1Ui1uc   19K views     8 years ago   \n",
       "1830  https://www.youtube.com/watch?v=AfxHGNRtFac  487K views     8 years ago   \n",
       "1831  https://www.youtube.com/watch?v=xtfj4-r_Ahs  300K views     8 years ago   \n",
       "\n",
       "                                        thumbnail_link  \n",
       "0     https://i.ytimg.com/vi/WYVKZ4Mla5c/hqdefault.jpg  \n",
       "1     https://i.ytimg.com/vi/dMonTS71mEY/hqdefault.jpg  \n",
       "2     https://i.ytimg.com/vi/voH3da1RvbA/hqdefault.jpg  \n",
       "3     https://i.ytimg.com/vi/-R64PWJPf2k/hqdefault.jpg  \n",
       "4     https://i.ytimg.com/vi/VSy4TN2jyzE/hqdefault.jpg  \n",
       "...                                                ...  \n",
       "1827  https://i.ytimg.com/vi/6pIC20wCm20/hqdefault.jpg  \n",
       "1828  https://i.ytimg.com/vi/T2sFYY-fT5o/hqdefault.jpg  \n",
       "1829  https://i.ytimg.com/vi/ChdNz1Ui1uc/hqdefault.jpg  \n",
       "1830  https://i.ytimg.com/vi/AfxHGNRtFac/hqdefault.jpg  \n",
       "1831  https://i.ytimg.com/vi/xtfj4-r_Ahs/hqdefault.jpg  \n",
       "\n",
       "[1832 rows x 5 columns]"
      ]
     },
     "execution_count": 3,
     "metadata": {},
     "output_type": "execute_result"
    }
   ],
   "source": [
    "df"
   ]
  },
  {
   "cell_type": "code",
   "execution_count": 4,
   "id": "5f060878",
   "metadata": {},
   "outputs": [],
   "source": [
    "# browser = webdriver.Chrome()\n",
    "# time.sleep(2)"
   ]
  },
  {
   "cell_type": "code",
   "execution_count": 5,
   "id": "c7ae1602",
   "metadata": {},
   "outputs": [],
   "source": [
    "# for i in df['video_link']:\n",
    "#     link = i\n",
    "#     browser.get(link)\n",
    "    \n",
    "#     break"
   ]
  },
  {
   "cell_type": "code",
   "execution_count": 6,
   "id": "f7f84512",
   "metadata": {},
   "outputs": [],
   "source": [
    "# soup = BeautifulSoup(browser.page_source, 'html.parser')"
   ]
  },
  {
   "cell_type": "code",
   "execution_count": 7,
   "id": "2be0e18d",
   "metadata": {},
   "outputs": [],
   "source": [
    "# print(soup.text.replace('\\n\\n', ''))"
   ]
  },
  {
   "cell_type": "code",
   "execution_count": 8,
   "id": "2b1fef9d",
   "metadata": {},
   "outputs": [],
   "source": [
    "# title = soup.find('h1', class_='style-scope ytd-watch-metadata').text.replace('\\n','')\n",
    "# title"
   ]
  },
  {
   "cell_type": "code",
   "execution_count": 9,
   "id": "322fab9e",
   "metadata": {},
   "outputs": [],
   "source": [
    "# views = soup.find('div', class_='style-scope ytd-watch-info-text').text.replace('\\n','')\n",
    "# views"
   ]
  },
  {
   "cell_type": "code",
   "execution_count": 10,
   "id": "b718be05",
   "metadata": {},
   "outputs": [],
   "source": [
    "# d = soup.find_all('yt-formatted-string', class_=\"style-scope ytd-watch-info-text\")\n",
    "# d[4].text"
   ]
  },
  {
   "cell_type": "code",
   "execution_count": 11,
   "id": "ff86e1e9",
   "metadata": {},
   "outputs": [],
   "source": [
    "# date_time = soup.find_all('span', class_='style-scope yt-formatted-string bold')\n",
    "# date_time"
   ]
  },
  {
   "cell_type": "code",
   "execution_count": 12,
   "id": "58f4b2ca",
   "metadata": {},
   "outputs": [],
   "source": [
    "# t = soup.find_all('tp-yt-paper-tooltip', class_=\"style-scope ytd-watch-info-text\")\n",
    "# t[0]\n",
    "# view = t[0].text.replace('\\n','').strip().split('•')[0].strip()\n",
    "# date = t[0].text.replace('\\n','').strip().split('•')[1].strip()\n",
    "\n",
    "# print(view)\n",
    "# print(date)\n",
    "\n",
    "# div class=\"style-scope tp-yt-paper-tooltip hidden\" id=\"tooltip\" style-target=\"tooltip\">\n",
    "# <tp-yt-paper-tooltip class=\"style-scope ytd-watch-info-text\" role=\"tooltip\" tabindex=\"-1\"><!--css-build:shady--><div class=\"hidden style-scope tp-yt-paper-tooltip\" id=\"tooltip\" style-target=\"tooltip\">"
   ]
  },
  {
   "cell_type": "code",
   "execution_count": 13,
   "id": "0835aeb9",
   "metadata": {},
   "outputs": [],
   "source": [
    "# like = soup.find_all('button-view-model', class_=\"yt-spec-button-view-model\")\n",
    "# like[0].find('button').get('aria-label').split()[5]"
   ]
  },
  {
   "cell_type": "code",
   "execution_count": 14,
   "id": "5d787a7f",
   "metadata": {},
   "outputs": [],
   "source": [
    "# l = soup.find('button-view-model', class_=\"yt-spec-button-view-model\").find('button').get('aria-label').split()[5]\n",
    "# l"
   ]
  },
  {
   "cell_type": "code",
   "execution_count": 15,
   "id": "fa868bc4",
   "metadata": {},
   "outputs": [],
   "source": [
    "# description = soup.find_all('yt-attributed-string', class_='style-scope ytd-text-inline-expander')\n",
    "# description[1].text\n",
    "\n",
    "# description = soup.find_all('span', class_='yt-core-attributed-string yt-core-attributed-string--white-space-pre-wrap')[0].text\n",
    "# print(description)\n"
   ]
  },
  {
   "cell_type": "code",
   "execution_count": 32,
   "id": "baba284f",
   "metadata": {},
   "outputs": [
    {
     "name": "stderr",
     "output_type": "stream",
     "text": [
      "  0%|                                                                               | 1/1832 [00:12<6:16:25, 12.33s/it]"
     ]
    },
    {
     "name": "stdout",
     "output_type": "stream",
     "text": [
      "349 views\n",
      "Jun 24, 2024\n"
     ]
    },
    {
     "name": "stderr",
     "output_type": "stream",
     "text": [
      "\r",
      "  0%|                                                                               | 2/1832 [00:21<5:19:55, 10.49s/it]"
     ]
    },
    {
     "name": "stdout",
     "output_type": "stream",
     "text": [
      "831 views\n",
      "Jun 22, 2024\n"
     ]
    },
    {
     "name": "stderr",
     "output_type": "stream",
     "text": [
      "\r",
      "  0%|▏                                                                              | 3/1832 [00:30<4:53:52,  9.64s/it]"
     ]
    },
    {
     "name": "stdout",
     "output_type": "stream",
     "text": [
      "540 views\n",
      "Jun 20, 2024\n"
     ]
    },
    {
     "name": "stderr",
     "output_type": "stream",
     "text": [
      "\r",
      "  0%|▏                                                                              | 4/1832 [00:38<4:41:08,  9.23s/it]"
     ]
    },
    {
     "name": "stdout",
     "output_type": "stream",
     "text": [
      "1,090 views\n",
      "Jun 20, 2024\n"
     ]
    },
    {
     "name": "stderr",
     "output_type": "stream",
     "text": [
      "\r",
      "  0%|▏                                                                              | 5/1832 [00:47<4:37:39,  9.12s/it]"
     ]
    },
    {
     "name": "stdout",
     "output_type": "stream",
     "text": [
      "928 views\n",
      "Jun 18, 2024\n"
     ]
    },
    {
     "name": "stderr",
     "output_type": "stream",
     "text": [
      "\r",
      "  0%|▎                                                                              | 6/1832 [00:56<4:34:02,  9.00s/it]"
     ]
    },
    {
     "name": "stdout",
     "output_type": "stream",
     "text": [
      "859 views\n",
      "Jun 15, 2024\n"
     ]
    },
    {
     "name": "stderr",
     "output_type": "stream",
     "text": [
      "\r",
      "  0%|▎                                                                              | 7/1832 [01:05<4:36:56,  9.10s/it]"
     ]
    },
    {
     "name": "stdout",
     "output_type": "stream",
     "text": [
      "1,129 views\n",
      "Jun 13, 2024\n"
     ]
    },
    {
     "name": "stderr",
     "output_type": "stream",
     "text": [
      "\r",
      "  0%|▎                                                                              | 8/1832 [01:18<5:13:17, 10.31s/it]"
     ]
    },
    {
     "name": "stdout",
     "output_type": "stream",
     "text": [
      "1,038 views\n",
      "Jun 11, 2024\n"
     ]
    },
    {
     "name": "stderr",
     "output_type": "stream",
     "text": [
      "\r",
      "  0%|▍                                                                              | 9/1832 [01:27<5:01:38,  9.93s/it]"
     ]
    },
    {
     "name": "stdout",
     "output_type": "stream",
     "text": [
      "1,313 views\n",
      "Jun 11, 2024\n"
     ]
    },
    {
     "name": "stderr",
     "output_type": "stream",
     "text": [
      "\r",
      "  1%|▍                                                                             | 10/1832 [01:37<4:55:57,  9.75s/it]"
     ]
    },
    {
     "name": "stdout",
     "output_type": "stream",
     "text": [
      "4,284 views\n",
      "Jun 10, 2024\n"
     ]
    },
    {
     "name": "stderr",
     "output_type": "stream",
     "text": [
      "\r",
      "  1%|▍                                                                             | 11/1832 [01:46<4:52:15,  9.63s/it]"
     ]
    },
    {
     "name": "stdout",
     "output_type": "stream",
     "text": [
      "938 views\n",
      "Jun 10, 2024\n"
     ]
    },
    {
     "name": "stderr",
     "output_type": "stream",
     "text": [
      "  1%|▍                                                                             | 11/1832 [01:55<5:18:35, 10.50s/it]\n"
     ]
    },
    {
     "ename": "KeyboardInterrupt",
     "evalue": "",
     "output_type": "error",
     "traceback": [
      "\u001b[1;31m---------------------------------------------------------------------------\u001b[0m",
      "\u001b[1;31mKeyboardInterrupt\u001b[0m                         Traceback (most recent call last)",
      "Cell \u001b[1;32mIn[32], line 11\u001b[0m\n\u001b[0;32m      7\u001b[0m browser\u001b[38;5;241m.\u001b[39mget(link)\n\u001b[0;32m      9\u001b[0m time\u001b[38;5;241m.\u001b[39msleep(\u001b[38;5;241m5\u001b[39m)\n\u001b[1;32m---> 11\u001b[0m soup \u001b[38;5;241m=\u001b[39m BeautifulSoup(\u001b[43mbrowser\u001b[49m\u001b[38;5;241;43m.\u001b[39;49m\u001b[43mpage_source\u001b[49m, \u001b[38;5;124m'\u001b[39m\u001b[38;5;124mhtml.parser\u001b[39m\u001b[38;5;124m'\u001b[39m)\n\u001b[0;32m     13\u001b[0m \u001b[38;5;28;01mtry\u001b[39;00m:\n\u001b[0;32m     14\u001b[0m     title \u001b[38;5;241m=\u001b[39m soup\u001b[38;5;241m.\u001b[39mfind(\u001b[38;5;124m'\u001b[39m\u001b[38;5;124mh1\u001b[39m\u001b[38;5;124m'\u001b[39m, class_\u001b[38;5;241m=\u001b[39m\u001b[38;5;124m'\u001b[39m\u001b[38;5;124mstyle-scope ytd-watch-metadata\u001b[39m\u001b[38;5;124m'\u001b[39m)\u001b[38;5;241m.\u001b[39mtext\u001b[38;5;241m.\u001b[39mreplace(\u001b[38;5;124m'\u001b[39m\u001b[38;5;130;01m\\n\u001b[39;00m\u001b[38;5;124m'\u001b[39m,\u001b[38;5;124m'\u001b[39m\u001b[38;5;124m'\u001b[39m)\n",
      "File \u001b[1;32mE:\\ANACONDA\\lib\\site-packages\\selenium\\webdriver\\remote\\webdriver.py:448\u001b[0m, in \u001b[0;36mWebDriver.page_source\u001b[1;34m(self)\u001b[0m\n\u001b[0;32m    439\u001b[0m \u001b[38;5;129m@property\u001b[39m\n\u001b[0;32m    440\u001b[0m \u001b[38;5;28;01mdef\u001b[39;00m \u001b[38;5;21mpage_source\u001b[39m(\u001b[38;5;28mself\u001b[39m) \u001b[38;5;241m-\u001b[39m\u001b[38;5;241m>\u001b[39m \u001b[38;5;28mstr\u001b[39m:\n\u001b[0;32m    441\u001b[0m     \u001b[38;5;124;03m\"\"\"Gets the source of the current page.\u001b[39;00m\n\u001b[0;32m    442\u001b[0m \n\u001b[0;32m    443\u001b[0m \u001b[38;5;124;03m    :Usage:\u001b[39;00m\n\u001b[1;32m   (...)\u001b[0m\n\u001b[0;32m    446\u001b[0m \u001b[38;5;124;03m            driver.page_source\u001b[39;00m\n\u001b[0;32m    447\u001b[0m \u001b[38;5;124;03m    \"\"\"\u001b[39;00m\n\u001b[1;32m--> 448\u001b[0m     \u001b[38;5;28;01mreturn\u001b[39;00m \u001b[38;5;28;43mself\u001b[39;49m\u001b[38;5;241;43m.\u001b[39;49m\u001b[43mexecute\u001b[49m\u001b[43m(\u001b[49m\u001b[43mCommand\u001b[49m\u001b[38;5;241;43m.\u001b[39;49m\u001b[43mGET_PAGE_SOURCE\u001b[49m\u001b[43m)\u001b[49m[\u001b[38;5;124m\"\u001b[39m\u001b[38;5;124mvalue\u001b[39m\u001b[38;5;124m\"\u001b[39m]\n",
      "File \u001b[1;32mE:\\ANACONDA\\lib\\site-packages\\selenium\\webdriver\\remote\\webdriver.py:345\u001b[0m, in \u001b[0;36mWebDriver.execute\u001b[1;34m(self, driver_command, params)\u001b[0m\n\u001b[0;32m    342\u001b[0m     \u001b[38;5;28;01melif\u001b[39;00m \u001b[38;5;124m\"\u001b[39m\u001b[38;5;124msessionId\u001b[39m\u001b[38;5;124m\"\u001b[39m \u001b[38;5;129;01mnot\u001b[39;00m \u001b[38;5;129;01min\u001b[39;00m params:\n\u001b[0;32m    343\u001b[0m         params[\u001b[38;5;124m\"\u001b[39m\u001b[38;5;124msessionId\u001b[39m\u001b[38;5;124m\"\u001b[39m] \u001b[38;5;241m=\u001b[39m \u001b[38;5;28mself\u001b[39m\u001b[38;5;241m.\u001b[39msession_id\n\u001b[1;32m--> 345\u001b[0m response \u001b[38;5;241m=\u001b[39m \u001b[38;5;28;43mself\u001b[39;49m\u001b[38;5;241;43m.\u001b[39;49m\u001b[43mcommand_executor\u001b[49m\u001b[38;5;241;43m.\u001b[39;49m\u001b[43mexecute\u001b[49m\u001b[43m(\u001b[49m\u001b[43mdriver_command\u001b[49m\u001b[43m,\u001b[49m\u001b[43m \u001b[49m\u001b[43mparams\u001b[49m\u001b[43m)\u001b[49m\n\u001b[0;32m    346\u001b[0m \u001b[38;5;28;01mif\u001b[39;00m response:\n\u001b[0;32m    347\u001b[0m     \u001b[38;5;28mself\u001b[39m\u001b[38;5;241m.\u001b[39merror_handler\u001b[38;5;241m.\u001b[39mcheck_response(response)\n",
      "File \u001b[1;32mE:\\ANACONDA\\lib\\site-packages\\selenium\\webdriver\\remote\\remote_connection.py:302\u001b[0m, in \u001b[0;36mRemoteConnection.execute\u001b[1;34m(self, command, params)\u001b[0m\n\u001b[0;32m    300\u001b[0m trimmed \u001b[38;5;241m=\u001b[39m \u001b[38;5;28mself\u001b[39m\u001b[38;5;241m.\u001b[39m_trim_large_entries(params)\n\u001b[0;32m    301\u001b[0m LOGGER\u001b[38;5;241m.\u001b[39mdebug(\u001b[38;5;124m\"\u001b[39m\u001b[38;5;132;01m%s\u001b[39;00m\u001b[38;5;124m \u001b[39m\u001b[38;5;132;01m%s\u001b[39;00m\u001b[38;5;124m \u001b[39m\u001b[38;5;132;01m%s\u001b[39;00m\u001b[38;5;124m\"\u001b[39m, command_info[\u001b[38;5;241m0\u001b[39m], url, \u001b[38;5;28mstr\u001b[39m(trimmed))\n\u001b[1;32m--> 302\u001b[0m \u001b[38;5;28;01mreturn\u001b[39;00m \u001b[38;5;28;43mself\u001b[39;49m\u001b[38;5;241;43m.\u001b[39;49m\u001b[43m_request\u001b[49m\u001b[43m(\u001b[49m\u001b[43mcommand_info\u001b[49m\u001b[43m[\u001b[49m\u001b[38;5;241;43m0\u001b[39;49m\u001b[43m]\u001b[49m\u001b[43m,\u001b[49m\u001b[43m \u001b[49m\u001b[43murl\u001b[49m\u001b[43m,\u001b[49m\u001b[43m \u001b[49m\u001b[43mbody\u001b[49m\u001b[38;5;241;43m=\u001b[39;49m\u001b[43mdata\u001b[49m\u001b[43m)\u001b[49m\n",
      "File \u001b[1;32mE:\\ANACONDA\\lib\\site-packages\\selenium\\webdriver\\remote\\remote_connection.py:322\u001b[0m, in \u001b[0;36mRemoteConnection._request\u001b[1;34m(self, method, url, body)\u001b[0m\n\u001b[0;32m    319\u001b[0m     body \u001b[38;5;241m=\u001b[39m \u001b[38;5;28;01mNone\u001b[39;00m\n\u001b[0;32m    321\u001b[0m \u001b[38;5;28;01mif\u001b[39;00m \u001b[38;5;28mself\u001b[39m\u001b[38;5;241m.\u001b[39mkeep_alive:\n\u001b[1;32m--> 322\u001b[0m     response \u001b[38;5;241m=\u001b[39m \u001b[38;5;28;43mself\u001b[39;49m\u001b[38;5;241;43m.\u001b[39;49m\u001b[43m_conn\u001b[49m\u001b[38;5;241;43m.\u001b[39;49m\u001b[43mrequest\u001b[49m\u001b[43m(\u001b[49m\u001b[43mmethod\u001b[49m\u001b[43m,\u001b[49m\u001b[43m \u001b[49m\u001b[43murl\u001b[49m\u001b[43m,\u001b[49m\u001b[43m \u001b[49m\u001b[43mbody\u001b[49m\u001b[38;5;241;43m=\u001b[39;49m\u001b[43mbody\u001b[49m\u001b[43m,\u001b[49m\u001b[43m \u001b[49m\u001b[43mheaders\u001b[49m\u001b[38;5;241;43m=\u001b[39;49m\u001b[43mheaders\u001b[49m\u001b[43m)\u001b[49m\n\u001b[0;32m    323\u001b[0m     statuscode \u001b[38;5;241m=\u001b[39m response\u001b[38;5;241m.\u001b[39mstatus\n\u001b[0;32m    324\u001b[0m \u001b[38;5;28;01melse\u001b[39;00m:\n",
      "File \u001b[1;32mE:\\ANACONDA\\lib\\site-packages\\urllib3\\request.py:74\u001b[0m, in \u001b[0;36mRequestMethods.request\u001b[1;34m(self, method, url, fields, headers, **urlopen_kw)\u001b[0m\n\u001b[0;32m     71\u001b[0m urlopen_kw[\u001b[38;5;124m\"\u001b[39m\u001b[38;5;124mrequest_url\u001b[39m\u001b[38;5;124m\"\u001b[39m] \u001b[38;5;241m=\u001b[39m url\n\u001b[0;32m     73\u001b[0m \u001b[38;5;28;01mif\u001b[39;00m method \u001b[38;5;129;01min\u001b[39;00m \u001b[38;5;28mself\u001b[39m\u001b[38;5;241m.\u001b[39m_encode_url_methods:\n\u001b[1;32m---> 74\u001b[0m     \u001b[38;5;28;01mreturn\u001b[39;00m \u001b[38;5;28mself\u001b[39m\u001b[38;5;241m.\u001b[39mrequest_encode_url(\n\u001b[0;32m     75\u001b[0m         method, url, fields\u001b[38;5;241m=\u001b[39mfields, headers\u001b[38;5;241m=\u001b[39mheaders, \u001b[38;5;241m*\u001b[39m\u001b[38;5;241m*\u001b[39murlopen_kw\n\u001b[0;32m     76\u001b[0m     )\n\u001b[0;32m     77\u001b[0m \u001b[38;5;28;01melse\u001b[39;00m:\n\u001b[0;32m     78\u001b[0m     \u001b[38;5;28;01mreturn\u001b[39;00m \u001b[38;5;28mself\u001b[39m\u001b[38;5;241m.\u001b[39mrequest_encode_body(\n\u001b[0;32m     79\u001b[0m         method, url, fields\u001b[38;5;241m=\u001b[39mfields, headers\u001b[38;5;241m=\u001b[39mheaders, \u001b[38;5;241m*\u001b[39m\u001b[38;5;241m*\u001b[39murlopen_kw\n\u001b[0;32m     80\u001b[0m     )\n",
      "File \u001b[1;32mE:\\ANACONDA\\lib\\site-packages\\urllib3\\request.py:96\u001b[0m, in \u001b[0;36mRequestMethods.request_encode_url\u001b[1;34m(self, method, url, fields, headers, **urlopen_kw)\u001b[0m\n\u001b[0;32m     93\u001b[0m \u001b[38;5;28;01mif\u001b[39;00m fields:\n\u001b[0;32m     94\u001b[0m     url \u001b[38;5;241m+\u001b[39m\u001b[38;5;241m=\u001b[39m \u001b[38;5;124m\"\u001b[39m\u001b[38;5;124m?\u001b[39m\u001b[38;5;124m\"\u001b[39m \u001b[38;5;241m+\u001b[39m urlencode(fields)\n\u001b[1;32m---> 96\u001b[0m \u001b[38;5;28;01mreturn\u001b[39;00m \u001b[38;5;28mself\u001b[39m\u001b[38;5;241m.\u001b[39murlopen(method, url, \u001b[38;5;241m*\u001b[39m\u001b[38;5;241m*\u001b[39mextra_kw)\n",
      "File \u001b[1;32mE:\\ANACONDA\\lib\\site-packages\\urllib3\\poolmanager.py:376\u001b[0m, in \u001b[0;36mPoolManager.urlopen\u001b[1;34m(self, method, url, redirect, **kw)\u001b[0m\n\u001b[0;32m    374\u001b[0m     response \u001b[38;5;241m=\u001b[39m conn\u001b[38;5;241m.\u001b[39murlopen(method, url, \u001b[38;5;241m*\u001b[39m\u001b[38;5;241m*\u001b[39mkw)\n\u001b[0;32m    375\u001b[0m \u001b[38;5;28;01melse\u001b[39;00m:\n\u001b[1;32m--> 376\u001b[0m     response \u001b[38;5;241m=\u001b[39m conn\u001b[38;5;241m.\u001b[39murlopen(method, u\u001b[38;5;241m.\u001b[39mrequest_uri, \u001b[38;5;241m*\u001b[39m\u001b[38;5;241m*\u001b[39mkw)\n\u001b[0;32m    378\u001b[0m redirect_location \u001b[38;5;241m=\u001b[39m redirect \u001b[38;5;129;01mand\u001b[39;00m response\u001b[38;5;241m.\u001b[39mget_redirect_location()\n\u001b[0;32m    379\u001b[0m \u001b[38;5;28;01mif\u001b[39;00m \u001b[38;5;129;01mnot\u001b[39;00m redirect_location:\n",
      "File \u001b[1;32mE:\\ANACONDA\\lib\\site-packages\\urllib3\\connectionpool.py:703\u001b[0m, in \u001b[0;36mHTTPConnectionPool.urlopen\u001b[1;34m(self, method, url, body, headers, retries, redirect, assert_same_host, timeout, pool_timeout, release_conn, chunked, body_pos, **response_kw)\u001b[0m\n\u001b[0;32m    700\u001b[0m     \u001b[38;5;28mself\u001b[39m\u001b[38;5;241m.\u001b[39m_prepare_proxy(conn)\n\u001b[0;32m    702\u001b[0m \u001b[38;5;66;03m# Make the request on the httplib connection object.\u001b[39;00m\n\u001b[1;32m--> 703\u001b[0m httplib_response \u001b[38;5;241m=\u001b[39m \u001b[38;5;28;43mself\u001b[39;49m\u001b[38;5;241;43m.\u001b[39;49m\u001b[43m_make_request\u001b[49m\u001b[43m(\u001b[49m\n\u001b[0;32m    704\u001b[0m \u001b[43m    \u001b[49m\u001b[43mconn\u001b[49m\u001b[43m,\u001b[49m\n\u001b[0;32m    705\u001b[0m \u001b[43m    \u001b[49m\u001b[43mmethod\u001b[49m\u001b[43m,\u001b[49m\n\u001b[0;32m    706\u001b[0m \u001b[43m    \u001b[49m\u001b[43murl\u001b[49m\u001b[43m,\u001b[49m\n\u001b[0;32m    707\u001b[0m \u001b[43m    \u001b[49m\u001b[43mtimeout\u001b[49m\u001b[38;5;241;43m=\u001b[39;49m\u001b[43mtimeout_obj\u001b[49m\u001b[43m,\u001b[49m\n\u001b[0;32m    708\u001b[0m \u001b[43m    \u001b[49m\u001b[43mbody\u001b[49m\u001b[38;5;241;43m=\u001b[39;49m\u001b[43mbody\u001b[49m\u001b[43m,\u001b[49m\n\u001b[0;32m    709\u001b[0m \u001b[43m    \u001b[49m\u001b[43mheaders\u001b[49m\u001b[38;5;241;43m=\u001b[39;49m\u001b[43mheaders\u001b[49m\u001b[43m,\u001b[49m\n\u001b[0;32m    710\u001b[0m \u001b[43m    \u001b[49m\u001b[43mchunked\u001b[49m\u001b[38;5;241;43m=\u001b[39;49m\u001b[43mchunked\u001b[49m\u001b[43m,\u001b[49m\n\u001b[0;32m    711\u001b[0m \u001b[43m\u001b[49m\u001b[43m)\u001b[49m\n\u001b[0;32m    713\u001b[0m \u001b[38;5;66;03m# If we're going to release the connection in ``finally:``, then\u001b[39;00m\n\u001b[0;32m    714\u001b[0m \u001b[38;5;66;03m# the response doesn't need to know about the connection. Otherwise\u001b[39;00m\n\u001b[0;32m    715\u001b[0m \u001b[38;5;66;03m# it will also try to release it and we'll have a double-release\u001b[39;00m\n\u001b[0;32m    716\u001b[0m \u001b[38;5;66;03m# mess.\u001b[39;00m\n\u001b[0;32m    717\u001b[0m response_conn \u001b[38;5;241m=\u001b[39m conn \u001b[38;5;28;01mif\u001b[39;00m \u001b[38;5;129;01mnot\u001b[39;00m release_conn \u001b[38;5;28;01melse\u001b[39;00m \u001b[38;5;28;01mNone\u001b[39;00m\n",
      "File \u001b[1;32mE:\\ANACONDA\\lib\\site-packages\\urllib3\\connectionpool.py:449\u001b[0m, in \u001b[0;36mHTTPConnectionPool._make_request\u001b[1;34m(self, conn, method, url, timeout, chunked, **httplib_request_kw)\u001b[0m\n\u001b[0;32m    444\u001b[0m             httplib_response \u001b[38;5;241m=\u001b[39m conn\u001b[38;5;241m.\u001b[39mgetresponse()\n\u001b[0;32m    445\u001b[0m         \u001b[38;5;28;01mexcept\u001b[39;00m \u001b[38;5;167;01mBaseException\u001b[39;00m \u001b[38;5;28;01mas\u001b[39;00m e:\n\u001b[0;32m    446\u001b[0m             \u001b[38;5;66;03m# Remove the TypeError from the exception chain in\u001b[39;00m\n\u001b[0;32m    447\u001b[0m             \u001b[38;5;66;03m# Python 3 (including for exceptions like SystemExit).\u001b[39;00m\n\u001b[0;32m    448\u001b[0m             \u001b[38;5;66;03m# Otherwise it looks like a bug in the code.\u001b[39;00m\n\u001b[1;32m--> 449\u001b[0m             \u001b[43msix\u001b[49m\u001b[38;5;241;43m.\u001b[39;49m\u001b[43mraise_from\u001b[49m\u001b[43m(\u001b[49m\u001b[43me\u001b[49m\u001b[43m,\u001b[49m\u001b[43m \u001b[49m\u001b[38;5;28;43;01mNone\u001b[39;49;00m\u001b[43m)\u001b[49m\n\u001b[0;32m    450\u001b[0m \u001b[38;5;28;01mexcept\u001b[39;00m (SocketTimeout, BaseSSLError, SocketError) \u001b[38;5;28;01mas\u001b[39;00m e:\n\u001b[0;32m    451\u001b[0m     \u001b[38;5;28mself\u001b[39m\u001b[38;5;241m.\u001b[39m_raise_timeout(err\u001b[38;5;241m=\u001b[39me, url\u001b[38;5;241m=\u001b[39murl, timeout_value\u001b[38;5;241m=\u001b[39mread_timeout)\n",
      "File \u001b[1;32m<string>:3\u001b[0m, in \u001b[0;36mraise_from\u001b[1;34m(value, from_value)\u001b[0m\n",
      "File \u001b[1;32mE:\\ANACONDA\\lib\\site-packages\\urllib3\\connectionpool.py:444\u001b[0m, in \u001b[0;36mHTTPConnectionPool._make_request\u001b[1;34m(self, conn, method, url, timeout, chunked, **httplib_request_kw)\u001b[0m\n\u001b[0;32m    441\u001b[0m \u001b[38;5;28;01mexcept\u001b[39;00m \u001b[38;5;167;01mTypeError\u001b[39;00m:\n\u001b[0;32m    442\u001b[0m     \u001b[38;5;66;03m# Python 3\u001b[39;00m\n\u001b[0;32m    443\u001b[0m     \u001b[38;5;28;01mtry\u001b[39;00m:\n\u001b[1;32m--> 444\u001b[0m         httplib_response \u001b[38;5;241m=\u001b[39m \u001b[43mconn\u001b[49m\u001b[38;5;241;43m.\u001b[39;49m\u001b[43mgetresponse\u001b[49m\u001b[43m(\u001b[49m\u001b[43m)\u001b[49m\n\u001b[0;32m    445\u001b[0m     \u001b[38;5;28;01mexcept\u001b[39;00m \u001b[38;5;167;01mBaseException\u001b[39;00m \u001b[38;5;28;01mas\u001b[39;00m e:\n\u001b[0;32m    446\u001b[0m         \u001b[38;5;66;03m# Remove the TypeError from the exception chain in\u001b[39;00m\n\u001b[0;32m    447\u001b[0m         \u001b[38;5;66;03m# Python 3 (including for exceptions like SystemExit).\u001b[39;00m\n\u001b[0;32m    448\u001b[0m         \u001b[38;5;66;03m# Otherwise it looks like a bug in the code.\u001b[39;00m\n\u001b[0;32m    449\u001b[0m         six\u001b[38;5;241m.\u001b[39mraise_from(e, \u001b[38;5;28;01mNone\u001b[39;00m)\n",
      "File \u001b[1;32mE:\\ANACONDA\\lib\\http\\client.py:1374\u001b[0m, in \u001b[0;36mHTTPConnection.getresponse\u001b[1;34m(self)\u001b[0m\n\u001b[0;32m   1372\u001b[0m \u001b[38;5;28;01mtry\u001b[39;00m:\n\u001b[0;32m   1373\u001b[0m     \u001b[38;5;28;01mtry\u001b[39;00m:\n\u001b[1;32m-> 1374\u001b[0m         \u001b[43mresponse\u001b[49m\u001b[38;5;241;43m.\u001b[39;49m\u001b[43mbegin\u001b[49m\u001b[43m(\u001b[49m\u001b[43m)\u001b[49m\n\u001b[0;32m   1375\u001b[0m     \u001b[38;5;28;01mexcept\u001b[39;00m \u001b[38;5;167;01mConnectionError\u001b[39;00m:\n\u001b[0;32m   1376\u001b[0m         \u001b[38;5;28mself\u001b[39m\u001b[38;5;241m.\u001b[39mclose()\n",
      "File \u001b[1;32mE:\\ANACONDA\\lib\\http\\client.py:318\u001b[0m, in \u001b[0;36mHTTPResponse.begin\u001b[1;34m(self)\u001b[0m\n\u001b[0;32m    316\u001b[0m \u001b[38;5;66;03m# read until we get a non-100 response\u001b[39;00m\n\u001b[0;32m    317\u001b[0m \u001b[38;5;28;01mwhile\u001b[39;00m \u001b[38;5;28;01mTrue\u001b[39;00m:\n\u001b[1;32m--> 318\u001b[0m     version, status, reason \u001b[38;5;241m=\u001b[39m \u001b[38;5;28;43mself\u001b[39;49m\u001b[38;5;241;43m.\u001b[39;49m\u001b[43m_read_status\u001b[49m\u001b[43m(\u001b[49m\u001b[43m)\u001b[49m\n\u001b[0;32m    319\u001b[0m     \u001b[38;5;28;01mif\u001b[39;00m status \u001b[38;5;241m!=\u001b[39m CONTINUE:\n\u001b[0;32m    320\u001b[0m         \u001b[38;5;28;01mbreak\u001b[39;00m\n",
      "File \u001b[1;32mE:\\ANACONDA\\lib\\http\\client.py:279\u001b[0m, in \u001b[0;36mHTTPResponse._read_status\u001b[1;34m(self)\u001b[0m\n\u001b[0;32m    278\u001b[0m \u001b[38;5;28;01mdef\u001b[39;00m \u001b[38;5;21m_read_status\u001b[39m(\u001b[38;5;28mself\u001b[39m):\n\u001b[1;32m--> 279\u001b[0m     line \u001b[38;5;241m=\u001b[39m \u001b[38;5;28mstr\u001b[39m(\u001b[38;5;28;43mself\u001b[39;49m\u001b[38;5;241;43m.\u001b[39;49m\u001b[43mfp\u001b[49m\u001b[38;5;241;43m.\u001b[39;49m\u001b[43mreadline\u001b[49m\u001b[43m(\u001b[49m\u001b[43m_MAXLINE\u001b[49m\u001b[43m \u001b[49m\u001b[38;5;241;43m+\u001b[39;49m\u001b[43m \u001b[49m\u001b[38;5;241;43m1\u001b[39;49m\u001b[43m)\u001b[49m, \u001b[38;5;124m\"\u001b[39m\u001b[38;5;124miso-8859-1\u001b[39m\u001b[38;5;124m\"\u001b[39m)\n\u001b[0;32m    280\u001b[0m     \u001b[38;5;28;01mif\u001b[39;00m \u001b[38;5;28mlen\u001b[39m(line) \u001b[38;5;241m>\u001b[39m _MAXLINE:\n\u001b[0;32m    281\u001b[0m         \u001b[38;5;28;01mraise\u001b[39;00m LineTooLong(\u001b[38;5;124m\"\u001b[39m\u001b[38;5;124mstatus line\u001b[39m\u001b[38;5;124m\"\u001b[39m)\n",
      "File \u001b[1;32mE:\\ANACONDA\\lib\\socket.py:705\u001b[0m, in \u001b[0;36mSocketIO.readinto\u001b[1;34m(self, b)\u001b[0m\n\u001b[0;32m    703\u001b[0m \u001b[38;5;28;01mwhile\u001b[39;00m \u001b[38;5;28;01mTrue\u001b[39;00m:\n\u001b[0;32m    704\u001b[0m     \u001b[38;5;28;01mtry\u001b[39;00m:\n\u001b[1;32m--> 705\u001b[0m         \u001b[38;5;28;01mreturn\u001b[39;00m \u001b[38;5;28;43mself\u001b[39;49m\u001b[38;5;241;43m.\u001b[39;49m\u001b[43m_sock\u001b[49m\u001b[38;5;241;43m.\u001b[39;49m\u001b[43mrecv_into\u001b[49m\u001b[43m(\u001b[49m\u001b[43mb\u001b[49m\u001b[43m)\u001b[49m\n\u001b[0;32m    706\u001b[0m     \u001b[38;5;28;01mexcept\u001b[39;00m timeout:\n\u001b[0;32m    707\u001b[0m         \u001b[38;5;28mself\u001b[39m\u001b[38;5;241m.\u001b[39m_timeout_occurred \u001b[38;5;241m=\u001b[39m \u001b[38;5;28;01mTrue\u001b[39;00m\n",
      "\u001b[1;31mKeyboardInterrupt\u001b[0m: "
     ]
    }
   ],
   "source": [
    "browser = webdriver.Chrome()\n",
    "time.sleep(2)\n",
    "\n",
    "data = []\n",
    "\n",
    "for link in tqdm(df['video_link']):\n",
    "    browser.get(link)\n",
    "    \n",
    "    time.sleep(5)\n",
    "\n",
    "    soup = BeautifulSoup(browser.page_source, 'html.parser')\n",
    "    \n",
    "    try:\n",
    "        title = soup.find('h1', class_='style-scope ytd-watch-metadata').text.replace('\\n','')\n",
    "    except:\n",
    "        title = np.nan\n",
    "    \n",
    "    try:\n",
    "        t = soup.find_all('tp-yt-paper-tooltip', class_=\"style-scope ytd-watch-info-text\")\n",
    "        views = t[0].text.replace('\\n','').strip().split('•')[0].strip()\n",
    "        date_time = t[0].text.replace('\\n','').strip().split('•')[1].strip()\n",
    "        # print(views)\n",
    "        # print(date_time)\n",
    "    except:\n",
    "        views = np.nan\n",
    "        date_time = np.nan\n",
    "        \n",
    "    try:\n",
    "        like = soup.find('button-view-model', class_=\"yt-spec-button-view-model\").find('button').get('aria-label').split()[5]\n",
    "    except:\n",
    "        like = np.nan\n",
    "        \n",
    "    try:\n",
    "        description = soup.find_all('span', class_='yt-core-attributed-string yt-core-attributed-string--white-space-pre-wrap')[7].text\n",
    "    except:\n",
    "        description = np.nan\n",
    "    \n",
    "    data.append([title , date_time, like, views, link, description])\n",
    "    \n",
    "#     break"
   ]
  },
  {
   "cell_type": "code",
   "execution_count": 34,
   "id": "87848912",
   "metadata": {},
   "outputs": [
    {
     "data": {
      "text/plain": [
       "11"
      ]
     },
     "execution_count": 34,
     "metadata": {},
     "output_type": "execute_result"
    }
   ],
   "source": [
    "len(data)"
   ]
  },
  {
   "cell_type": "code",
   "execution_count": 38,
   "id": "72a7c9f2",
   "metadata": {},
   "outputs": [
    {
     "data": {
      "text/plain": [
       "[['Learn Selection Sort Algorithm | \\u202a@SandeepJainGfG\\u202c | GeeksforGeeks',\n",
       "  'Jun 24, 2024',\n",
       "  '19',\n",
       "  '349 views',\n",
       "  'https://www.youtube.com/watch?v=WYVKZ4Mla5c',\n",
       "  \"Tired of messy data sets making your code cry?   \\n\\n#selectionsort is here to save the day!  This video will be your ultimate guide to conquering this powerful yet easy-to-understand sorting algorithm\\n\\nSelection Sort Algorithm\\nhttps://www.geeksforgeeks.org/selecti...\\n\\nTop Interview Questions and Answers on Selection Sort\\nhttps://www.geeksforgeeks.org/top-int...\\n\\nTop Sorting Interview Questions and Problems\\nhttps://www.geeksforgeeks.org/top-sor...\\n\\nWhether you're a seasoned programmer or just starting your coding journey, understanding stability will elevate your sorting game.\\n\\nReady to unlock the secrets of stable sorting? Watch now!\\n\\nFor next videos, check out the full playlist: \\xa0\\xa0\\xa0•\\xa0Free\\xa0Preview\\xa0of\\xa0DSA\\xa0Self-Paced\\xa0Course...\\xa0\\xa0\\n\\nDon't forget to subscribe and hit the bell icon to stay updated when the next lecture of this series comes.\\n\\nCheck out the full DSA self-paced course to practice questions on sorting algo and to master all the other important DSA concepts before your next interview: https://www.geeksforgeeks.org/courses...\\n\\nExplore other Premium LIVE and Online Courses : \\nhttps://practice.geeksforgeeks.org/co...\\n\\nFollow us for more fun, knowledge and resources:\\n\\n📱 Download GeeksforGeeks' Official App: https://geeksforgeeksapp.page.link/gf...\\n\\n💬 Twitter- \\xa0\\xa0/\\xa0geeksforgeeks\\xa0\\xa0 \\n\\n🧑\\u200d💼 LinkedIn- \\xa0\\xa0/\\xa0geeksforgeeks\\xa0\\xa0\\n\\n📷 Instagram- https://www.instagram.com/geeks_for_g... \\n\\n💌 Telegram- https://t.me/s/geeksforgeeks_official \\n\\n\\nAlso, Subscribe if you haven't already! :)\\n\\n#GeeksforGeeks #Learntocode #sortingalgorithms #dsa #dsagfgcourse #sandeepjaindsa #sandeepjaingfg #array #arrays #jre #datastructuresandalgorithms #datastrucutres\\n#sortingalgorithms #stability #coding #algorithms #programming #selectionsort #sortarray #selectionsorting \\n\\n\\nTags:\\nc++\\ndata structures\\ncoding challenges\\ninterview preparation\\nalgorithm complexity analysis\\nlearn python\\npython programming\\npython bootcamp\\npython coding\\npython for beginners\\npython download\\npython tutor\\nheap sort array\\nmedian of two sorted arrays\\nalgorithm of insertion in array in data structure\\nbubble array\\nbubble sort interview questions\\nbubble sort pseudo code\\nc insertion sort\\nc++ program for merge sort\\nc++ program for quick sortmerge sort c program\\nmerge sort leetcode\\nmerge sorted arrays java\\nmerge two sorted array\\nmerge two sorted arrays\\nmerge two sorted arrays hackerrank\\nmerge two sorted arrays in c++\\nmerge two sorted arrays in java\\nmerge two sorted arrays in place\\nmerge two sorted arrays java\\nmerge two sorted arrays javascript\\nmerge two sorted arrays python\\nmerge two sorted arrays without extra space\\nmerge two sorted lists\\nhow to sort an array\\nbest algorithm for sorting array\\nbest algorithm to sort an array\\nbest array sorting algorithm\\nbest case for insertion sort\\nsorting algorithms examples\\ntime complexity of sorting algorithms\\njava course\\njava developer\\njava script\\njdk download\\njava coding\\nin java\\nspring boots\\njava online compiler\\njava development kit download\\njava interview questions for freshers\\njava8\\ndsa\\ndata structure and algorithms\\ndata structures and algorithms course\\ndata structures\\ndata structures in python\\ndata structures in java\\ndsa in java\\ndsa in python\\ndata structures in c++\\ngfg dsa\\ndsa for beginners\\ndata structure using c\\nbest dsa course on youtube\\npython algorithms course\\ndata structures and algorithms in c\\ndsa python\\nds and algo course\\njava developer course\\nbubble sort\\nselection sort\\nSorting Algorithm Stability Explained\\nStable Sorting Algorithms\\nUnstable Sorting Algorithms\\nPython\\ntime complexity\\nreal world\\nbig data\\nibm\\nonline lectures\\nlearning\\nlive classes\\nlectures\\nlearn\\ndsa\\nbubble sort\\nSorting\\nFree course\\nonline course\\nbubble sorting\"],\n",
       " ['Learn Bubble Sort in 12 minutes | \\u202a@SandeepJainGfG\\u202c | Lecture 7 | GeeksforGeeks',\n",
       "  'Jun 22, 2024',\n",
       "  '27',\n",
       "  '831 views',\n",
       "  'https://www.youtube.com/watch?v=dMonTS71mEY',\n",
       "  \"Hey are you done with our previous videos on sorting??\\nThen let's quickly learn #bubble #sort with @SandeepJainGfG | Welcome to Lecture-7 of our Sorting Playlist.  \\n\\nDon't Miss :\\nTop Interview Questions and Answers on Bubble Sort\\nhttps://www.geeksforgeeks.org/top-int...\\n\\nTop Sorting Interview Questions and Problems\\nhttps://www.geeksforgeeks.org/top-sor...\\n\\nBubble Sort – Data Structure and Algorithm Tutorials https://www.geeksforgeeks.org/bubble-... \\n\\nBubble Sort for Linked List by Swapping nodes\\nhttps://www.geeksforgeeks.org/bubble-...\\n\\nBubble sort using two Stacks\\nhttps://www.geeksforgeeks.org/bubble-...\\n\\nDSA vs Development for Placements\\nhttps://www.geeksforgeeks.org/dsa-vs-...\\n\\n\\nHere's what you'll discover:\\n1. The core idea behind bubble sort\\n2. How to implement bubble sort in code (we'll use Python, but the concepts apply to other languages too!)\\n3. Visualize the sorting process for a deeper understanding\\n4. Common misconceptions about bubble sort ❌✅\\n\\nWhether you're a seasoned programmer or just starting your coding journey, understanding stability will elevate your sorting game.\\n\\nReady to unlock the secrets of stable sorting? Watch now!\\n\\nFor next videos, check out the full playlist: \\xa0\\xa0\\xa0•\\xa0Free\\xa0Preview\\xa0of\\xa0DSA\\xa0Self-Paced\\xa0Course...\\xa0\\xa0\\n\\nDon't forget to subscribe and hit the bell icon to stay updated when the next lecture of this series comes.\\n\\nCheck out the full DSA self-paced course to practice questions on sorting algo and to master all the other important DSA concepts before your next interview: https://www.geeksforgeeks.org/courses...\\n\\nExplore other Premium LIVE and Online Courses : \\nhttps://practice.geeksforgeeks.org/co...\\n\\nFollow us for more fun, knowledge and resources:\\n\\n📱 Download GeeksforGeeks' Official App: https://geeksforgeeksapp.page.link/gf...\\n\\n💬 Twitter- \\xa0\\xa0/\\xa0geeksforgeeks\\xa0\\xa0 \\n\\n🧑\\u200d💼 LinkedIn- \\xa0\\xa0/\\xa0geeksforgeeks\\xa0\\xa0\\n\\n📷 Instagram- https://www.instagram.com/geeks_for_g... \\n\\n💌 Telegram- https://t.me/s/geeksforgeeks_official \\n\\n\\nAlso, Subscribe if you haven't already! :)\\n\\n#GeeksforGeeks #Learntocode #sortingalgorithms #dsa #dsagfgcourse #sandeepjaindsa #sandeepjaingfg #array #arrays #jre #datastructuresandalgorithms #datastrucutres\\n#sortingalgorithms #stability #coding #algorithms #programming \\n\\n\\nTags:\\nc++\\ndata structures\\ncoding challenges\\ninterview preparation\\nalgorithm complexity analysis\\nlearn python\\npython programming\\npython bootcamp\\npython coding\\npython for beginners\\npython download\\npython tutor\\nselection sort array\\ninsertion sort array\\nmerge sort array\\nquick sort array\\nheap sort array\\nmedian of two sorted arrays\\nalgorithm of insertion in array in data structure\\nbubble array\\nbubble sort interview questions\\nbubble sort pseudo code\\nc insertion sort\\nc++ program for merge sort\\nc++ program for quick sortmerge sort c program\\nmerge sort leetcode\\nmerge sorted arrays java\\nmerge two sorted array\\nmerge two sorted arrays\\nmerge two sorted arrays hackerrank\\nmerge two sorted arrays in c++\\nmerge two sorted arrays in java\\nmerge two sorted arrays in place\\nmerge two sorted arrays java\\nmerge two sorted arrays javascript\\nmerge two sorted arrays python\\nmerge two sorted arrays without extra space\\nmerge two sorted lists\\nhow to sort an array\\nbest algorithm for sorting array\\nbest algorithm to sort an array\\nbest array sorting algorithm\\nbest case for insertion sort\\nsorting algorithms examples\\ntime complexity of sorting algorithms\\njava course\\njava developer\\njava script\\njdk download\\njava coding\\nin java\\nspring boots\\njava online compiler\\njava development kit download\\njava interview questions for freshers\\njava8\\ndsa\\ndata structure and algorithms\\ndata structures and algorithms course\\ndata structures\\ndata structures in python\\ndata structures in java\\ndsa in java\\ndsa in python\\ndata structures in c++\\ngfg dsa\\ndsa for beginners\\ndata structure using c\\nbest dsa course on youtube\\npython algorithms course\\ndata structures and algorithms in c\\ndsa python\\nds and algo course\\njava developer course\\nbubble sort\\nselection sort\\nSorting Algorithm Stability Explained\\nStable Sorting Algorithms\\nUnstable Sorting Algorithms\\nPython\\ntime complexity\\nreal world\\nbig data\\nibm\\nonline lectures\\nlearning\\nlive classes\\nlectures\\nlearn\\ndsa\\nbubble sort\\nSorting\\nFree course\\nonline course\\nbubble sorting\"],\n",
       " ['Lecture-6 Learn Stability in SORTING - Beginners to Advance | GeeksforGeeks',\n",
       "  'Jun 20, 2024',\n",
       "  '17',\n",
       "  '540 views',\n",
       "  'https://www.youtube.com/watch?v=voH3da1RvbA',\n",
       "  \"#sorting  Mastery: Unveiling the Secret of Stability! with @SandeepJainGfG  \\nWelcome to Lecture-6 of our Sorting Playlist.  \\n \\nEver wondered why some sorting algorithms shuffle the order of equal elements, while others keep it tidy? \\n\\nWelcome to the world of stability in sorting algorithms! In this video, we'll dive deep into this crucial concept and answer the question: Does order REALLY matter when sorting?\\n\\nRead More: https://www.geeksforgeeks.org/stable-...\\n\\nHere's what you'll discover:\\n\\nWhat is stability in sorting algorithms, and why should you care?\\nExploring the difference between stable and unstable sorting algorithms.\\nReal-world applications where stability makes a big difference.\\nBonus: Learn how to identify stable and unstable sorting algorithms!\\n\\nWhether you're a seasoned programmer or just starting your coding journey, understanding stability will elevate your sorting game.\\n\\nReady to unlock the secrets of stable sorting? Watch now!\\n\\nFor next videos, check out the full playlist: \\xa0\\xa0\\xa0•\\xa0Free\\xa0Preview\\xa0of\\xa0DSA\\xa0Self-Paced\\xa0Course...\\xa0\\xa0\\n\\nDon't forget to subscribe and hit the bell icon to stay updated when the next lecture of this series comes.\\n\\nCheck out the full DSA self-paced course to practice questions on sorting algo and to master all the other important DSA concepts before your next interview: https://www.geeksforgeeks.org/courses...\\n\\nExplore other Premium LIVE and Online Courses : \\nhttps://practice.geeksforgeeks.org/co...\\n\\nFollow us for more fun, knowledge and resources:\\n\\n📱 Download GeeksforGeeks' Official App: https://geeksforgeeksapp.page.link/gf...\\n\\n💬 Twitter- \\xa0\\xa0/\\xa0geeksforgeeks\\xa0\\xa0 \\n\\n🧑\\u200d💼 LinkedIn- \\xa0\\xa0/\\xa0geeksforgeeks\\xa0\\xa0\\n\\n📷 Instagram- https://www.instagram.com/geeks_for_g... \\n\\n💌 Telegram- https://t.me/s/geeksforgeeks_official \\n\\n\\nAlso, Subscribe if you haven't already! :)\\n\\n#GeeksforGeeks #Learntocode #sortingalgorithms #dsa #dsagfgcourse #sandeepjaindsa #sandeepjaingfg #array #arrays #jre #datastructuresandalgorithms #datastrucutres\\n#sortingalgorithms #stability #coding #algorithms #programming \\n\\n\\nTags:\\nSorting Algorithm Stability Explained\\nStable Sorting Algorithms\\nUnstable Sorting Algorithms\\nPython\\ntime complexity\\nreal world\\nbig data\\nibm\\nonline lectures\\nlearning\\nlive classes\\nlectures\\nlearn\\ndsa\\nbubble sort\\nSorting\\nFree course\\nonline course\"],\n",
       " ['GeeksforGeeks Classroom Program | Delhi/NCR | Pune | Bengaluru | Offline Coding Classes Near You!',\n",
       "  'Jun 20, 2024',\n",
       "  '24',\n",
       "  '1,090 views',\n",
       "  'https://www.youtube.com/watch?v=-R64PWJPf2k',\n",
       "  \"Explore GfG Classroom Programs Near you and visit today for free consultation: https://www.geeksforgeeks.org/courses...\\n\\nGeeksforGeeks' Offline Classroom Programs offer a dynamic way to enhance your coding \\nskills in a structured, in-person environment. Here's why we're making waves:\\n- Expert Guidance\\n- Hands- On Project Practice\\n- Interactice Learning Environment\\n- Training Certificate\\n& Much More!\\n\\nRegister today for free 1-1 Counselling, also do visit for some great walk-in offers: https://www.geeksforgeeks.org/courses...\\n\\nFollow us for more fun, knowledge and resources:\\n\\n📱 Download GeeksforGeeks' Official App: https://geeksforgeeksapp.page.link/gf...\\n\\n💬 Twitter- \\xa0\\xa0/\\xa0geeksforgeeks\\xa0\\xa0 \\n\\n 🧑\\u200d💼 LinkedIn- \\xa0\\xa0/\\xa0geeksforgeeks\\xa0\\xa0\\n\\n📷 Instagram- https://www.instagram.com/geeks_for_g... \\n\\n💌 Telegram- https://t.me/s/geeksforgeeks_official \\n\\nAlso, Subscribe if you haven't already! :)\\n\\n#GeeksforGeeks #gfgclassroom #gfgclassroomprogram #codingclasses #offlinelearning\"],\n",
       " ['Lecture-5 Mastering Sorting Algorithms with Java: From Collections.sort to Custom Comparators',\n",
       "  'Jun 18, 2024',\n",
       "  '22',\n",
       "  '928 views',\n",
       "  'https://www.youtube.com/watch?v=VSy4TN2jyzE',\n",
       "  \"Master Collection Sort Algorithms (Beginner-Friendly) with @SandeepJainGfG  \\nWelcome to Lecture-5 of our Sorting Playlist.  \\n\\nUnderstand the fundamentals of Collection Sort and its different implementations (Bubble Sort, Selection Sort, etc.)\\nGrasp the time and space complexity of each algorithm, making informed choices for your projects.\\nLearn how to implement Collection Sort algorithms in your preferred programming language (Python, Java, C++, etc.)\\nBoost your problem-solving skills by tackling real-world scenarios where Collection Sort comes in handy.\\nBy the end of this video, you'll be able to confidently sort and organize data like a coding champion!\\n\\nRead More: https://www.geeksforgeeks.org/collect...\\n\\nFor next videos, check out the full playlist: \\xa0\\xa0\\xa0•\\xa0Free\\xa0Preview\\xa0of\\xa0DSA\\xa0Self-Paced\\xa0Course...\\xa0\\xa0\\n\\nDon't forget to subscribe and hit the bell icon to stay updated when the next lecture of this series comes.\\n\\nCheck out the full DSA self-paced course to practice questions on sorting algo and to master all the other important DSA concepts before your next interview: https://www.geeksforgeeks.org/courses...\\n\\nExplore other Premium LIVE and Online Courses : \\nhttps://practice.geeksforgeeks.org/co...\\n\\nFollow us for more fun, knowledge and resources:\\n\\n📱 Download GeeksforGeeks' Official App: https://geeksforgeeksapp.page.link/gf...\\n\\n💬 Twitter- \\xa0\\xa0/\\xa0geeksforgeeks\\xa0\\xa0 \\n\\n🧑\\u200d💼 LinkedIn- \\xa0\\xa0/\\xa0geeksforgeeks\\xa0\\xa0\\n\\n📷 Instagram- https://www.instagram.com/geeks_for_g... \\n\\n💌 Telegram- https://t.me/s/geeksforgeeks_official \\n\\n\\nAlso, Subscribe if you haven't already! :)\\n\\n#GeeksforGeeks #Learntocode #sortingalgorithms #dsa #dsagfgcourse #sandeepjaindsa #sandeepjaingfg #array #arrays #jre #datastructuresandalgorithms #datastrucutres \\n\\nTags: \\npython\\nc++\\ndata structures\\ncoding challenges\\ninterview preparation\\nalgorithm complexity analysis\\nlearn python\\npython programming\\npython bootcamp\\npython coding\\npython for beginners\\npython download\\npython tutor\\nselection sort array\\ninsertion sort array\\nmerge sort array\\nquick sort array\\nheap sort array\\nmedian of two sorted arrays\\nalgorithm of insertion in array in data structure\\nbubble array\\nbubble sort interview questions\\nbubble sort pseudo code\\nc insertion sort\\nc++ program for merge sort\\nc++ program for quick sortmerge sort c program\\nmerge sort leetcode\\nmerge sorted arrays java\\nmerge two sorted array\\nmerge two sorted arrays\\nmerge two sorted arrays hackerrank\\nmerge two sorted arrays in c++\\nmerge two sorted arrays in java\\nmerge two sorted arrays in place\\nmerge two sorted arrays java\\nmerge two sorted arrays javascript\\nmerge two sorted arrays python\\nmerge two sorted arrays without extra space\\nmerge two sorted lists\\nhow to sort an array\\nbest algorithm for sorting array\\nbest algorithm to sort an array\\nbest array sorting algorithm\\nbest case for insertion sort\\nsorting algorithms examples\\ntime complexity of sorting algorithms\\njava course\\njava developer\\njava script\\njdk download\\njava coding\\nin java\\nspring boots\\njava online compiler\\njava development kit download\\njava interview questions for freshers\\njava8\\ndsa\\ndata structure and algorithms\\ndata structures and algorithms course\\ndata structures\\ndata structures in python\\ndata structures in java\\ndsa in java\\ndsa in python\\ndata structures in c++\\ngfg dsa\\ndsa for beginners\\ndata structure using c\\nbest dsa course on youtube\\npython algorithms course\\ndata structures and algorithms in c\\ndsa python\\nds and algo course\\njava developer course\\nbubble sort\\nselection sort\"],\n",
       " ['Lecture-4  Arrays.sort() in Java Explained |  Primitive vs. Non-Primitive | GeeksforGeeks',\n",
       "  'Jun 15, 2024',\n",
       "  '25',\n",
       "  '859 views',\n",
       "  'https://www.youtube.com/watch?v=6mwz4JQ6Z50',\n",
       "  \"Level Up Your Coding: Sorting Mastery in Array with  @SandeepJainGfG  \\nWelcome to Lecture-4 of our Sorting Playlist.  \\n\\nIs your data all jumbled up? Don't worry, this playlist is your key to conquering arrays with powerful sorting algorithms.\\n\\nRead More: https://www.geeksforgeeks.org/sorting...\\n\\nFor next videos, check out the full playlist: \\xa0\\xa0\\xa0•\\xa0Free\\xa0Preview\\xa0of\\xa0DSA\\xa0Self-Paced\\xa0Course...\\xa0\\xa0\\n\\nDon't forget to subscribe and hit the bell icon to stay updated when the next lecture of this series comes.\\n\\nCheck out the full DSA self-paced course to practice questions on sorting algo and to master all the other important DSA concepts before your next interview: https://www.geeksforgeeks.org/courses...\\n\\nExplore other Premium LIVE and Online Courses : \\nhttps://practice.geeksforgeeks.org/co...\\n\\nFollow us for more fun, knowledge and resources:\\n\\n📱 Download GeeksforGeeks' Official App: https://geeksforgeeksapp.page.link/gf...\\n\\n💬 Twitter- \\xa0\\xa0/\\xa0geeksforgeeks\\xa0\\xa0 \\n\\n🧑\\u200d💼 LinkedIn- \\xa0\\xa0/\\xa0geeksforgeeks\\xa0\\xa0\\n\\n📷 Instagram- https://www.instagram.com/geeks_for_g... \\n\\n💌 Telegram- https://t.me/s/geeksforgeeks_official \\n\\n\\nAlso, Subscribe if you haven't already! :)\\n\\n#GeeksforGeeks #Learntocode #sortingalgorithms #dsa #dsagfgcourse #sandeepjaindsa #sandeepjaingfg #array #arrays #jre #datastructuresandalgorithms #datastrucutres \\n\\nTags: \\npython\\nc++\\ndata structures\\ncoding challenges\\ninterview preparation\\nalgorithm complexity analysis\\nlearn python\\npython programming\\npython bootcamp\\npython coding\\npython for beginners\\npython download\\npython tutor\\nselection sort array\\ninsertion sort array\\nmerge sort array\\nquick sort array\\nheap sort array\\nmedian of two sorted arrays\\nalgorithm of insertion in array in data structure\\nbubble array\\nbubble sort interview questions\\nbubble sort pseudo code\\nc insertion sort\\nc++ program for merge sort\\nc++ program for quick sortmerge sort c program\\nmerge sort leetcode\\nmerge sorted arrays java\\nmerge two sorted array\\nmerge two sorted arrays\\nmerge two sorted arrays hackerrank\\nmerge two sorted arrays in c++\\nmerge two sorted arrays in java\\nmerge two sorted arrays in place\\nmerge two sorted arrays java\\nmerge two sorted arrays javascript\\nmerge two sorted arrays python\\nmerge two sorted arrays without extra space\\nmerge two sorted lists\\nhow to sort an array\\nbest algorithm for sorting array\\nbest algorithm to sort an array\\nbest array sorting algorithm\\nbest case for insertion sort\\nsorting algorithms examples\\ntime complexity of sorting algorithms\"],\n",
       " ['Lecture-3 Java Sorting Explained: Arrays vs. Collections, Stability, and Algorithms | GeeksforGeeks',\n",
       "  'Jun 13, 2024',\n",
       "  '34',\n",
       "  '1,129 views',\n",
       "  'https://www.youtube.com/watch?v=mUX5IfNwhjg',\n",
       "  \"Level Up Your Coding: Sorting Mastery in Java with \\u202a@SandeepJainGfG\\u202c \\nWelcome to Lecture-3 of our Sorting Playlist. In this video you will learn:\\n\\n1) Sorting fundamentals\\n2) Essential sorting algorithms in Java\\n3) Java code examples to put your skills to the test\\n\\nRead More about Sorting in Java here: https://www.geeksforgeeks.org/sorting...\\n\\nFor next videos, check out the full playlist: \\xa0\\xa0\\xa0•\\xa0Free\\xa0Preview\\xa0of\\xa0DSA\\xa0Self-Paced\\xa0Course...\\xa0\\xa0\\n\\nDon't forget to subscribe and hit the bell icon to stay updated when the next lecture of this series comes.\\n\\nCheck out the full DSA self-paced course to practice questions on sorting algo and to master all the other important DSA concepts before your next interview: https://www.geeksforgeeks.org/courses...\\n\\nExplore other Premium LIVE and Online Courses : \\nhttps://practice.geeksforgeeks.org/co...\\n\\nFollow us for more fun, knowledge and resources:\\n\\n📱 Download GeeksforGeeks' Official App: https://geeksforgeeksapp.page.link/gf...\\n\\n💬 Twitter- \\xa0\\xa0/\\xa0geeksforgeeks\\xa0\\xa0 \\n\\n 🧑\\u200d💼 LinkedIn- \\xa0\\xa0/\\xa0geeksforgeeks\\xa0\\xa0\\n\\n📷 Instagram- https://www.instagram.com/geeks_for_g... \\n\\n💌 Telegram- https://t.me/s/geeksforgeeks_official \\n\\n\\nAlso, Subscribe if you haven't already! :)\\n\\n#GeeksforGeeks #Learntocode #sortingalgorithms #dsa #dsagfgcourse #sandeepjaindsa #sandeepjaingfg #java #javajdk #javacoding #jre #datastructuresandalgorithms #datastrucutres \\n\\nTags:\\njava\\njava course\\njava developer\\njava script\\njdk download\\njava coding\\nin java\\nspring boots\\njava online compiler\\njava development kit download\\njava interview questions for freshers\\njava8\\ndsa\\ndata structure and algorithms\\ndata structures and algorithms course\\ndata structures\\ndata structures in python\\ndata structures in java\\ndsa in java\\ndsa in python\\ndata structures in c++\\ngfg dsa\\ndsa for beginners\\ndata structure using c\\nbest dsa course on youtube\\npython algorithms course\\ndata structures and algorithms in c\\ndsa python\\nds and algo course\\njava developer course\\nlearn java\\nlearn java programming\\nsorting in ds\\nsorting in dsa\\nsorting types in data structure\"],\n",
       " [\"Lecture- 2 Mastering Sorting in C++: STL 'sort' Function Explained | GeeksforGeeks\",\n",
       "  'Jun 11, 2024',\n",
       "  '28',\n",
       "  '1,038 views',\n",
       "  'https://www.youtube.com/watch?v=tmESfVUaTog',\n",
       "  \"Welcome to Lecture-2 of our Sorting Playlist. In this, \\u202a@SandeepJainGfG\\u202c  will teach you all about Sorting in C++ programming language. Watch this quick video to learn all about sorting. Also included: An example of sorting to help learn practically!\\n\\nFor next videos, check out the full playlist: \\xa0\\xa0\\xa0•\\xa0Free\\xa0Preview\\xa0of\\xa0DSA\\xa0Self-Paced\\xa0Course...\\xa0\\xa0\\n\\nDon't forget to subscribe and hit the bell icon to stay updated when the next lecture of this series comes.\\n\\nCheck out the full DSA self-paced course to practice questions on sorting algo and to master all the other important DSA concepts before your next interview: https://www.geeksforgeeks.org/courses...\\n\\nExplore other Premium LIVE and Online Courses : \\nhttps://practice.geeksforgeeks.org/co...\\n\\nFollow us for more fun, knowledge and resources:\\n\\n📱 Download GeeksforGeeks' Official App: https://geeksforgeeksapp.page.link/gf...\\n\\n💬 Twitter- \\xa0\\xa0/\\xa0geeksforgeeks\\xa0\\xa0 \\n\\n 🧑\\u200d💼 LinkedIn- \\xa0\\xa0/\\xa0geeksforgeeks\\xa0\\xa0\\n\\n📷 Instagram- https://www.instagram.com/geeks_for_g... \\n\\n💌 Telegram- https://t.me/s/geeksforgeeks_official \\n\\nAlso, Subscribe if you haven't already! :)\\n\\n#GeeksforGeeks #Learntocode #sortingalgorithms #dsa #dsagfgcourse #sandeepjaindsa #sandeepjain #sortingincpp #cpp #cpplanguage\"],\n",
       " ['7 Game-Changing Productivity Tools You Need to Try! 🚀 | Maximize Your Efficiency | GFG',\n",
       "  'Jun 11, 2024',\n",
       "  '76',\n",
       "  '1,313 views',\n",
       "  'https://www.youtube.com/watch?v=gH-7ezHeuEo',\n",
       "  \"7 Game-Changing Productivity Tools You Need to Try! 🚀 | Maximize Your Efficiency | GFG\\n------------------------------------------------------------------\\nUseful Links:\\n\\nEvernote: https://play.google.com/store/apps/de...\\nGoogle Keep: https://play.google.com/store/search?...\\nForrest: https://play.google.com/store/search?...\\nGrammarly: https://play.google.com/store/search?...\\nRescue Time: https://play.google.com/store/search?...\\nTab Session Manager: https://chromewebstore.google.com/det...\\nNotion: https://play.google.com/store/search?...\\n-----------------------------------------------------\\nExplore Premium LIVE and Online Courses : \\nhttps://practice.geeksforgeeks.org/co...\\n\\nFollow us for more fun, knowledge and resources:\\n\\n📱 Download GeeksforGeeks' Official App: https://geeksforgeeksapp.page.link/gf...\\n\\n💬 Twitter- \\xa0\\xa0/\\xa0geeksforgeeks\\xa0\\xa0 \\n\\n 🧑\\u200d💼 LinkedIn- \\xa0\\xa0/\\xa0geeksforgeeks\\xa0\\xa0\\n\\n📷 Instagram- https://www.instagram.com/geeks_for_g... \\n\\n💌 Telegram- https://t.me/s/geeksforgeeks_official \\n---------------------------------------------------------------------\\ntags:\\nProductivityTips, MaximizeEfficiency, TaskManagement, OrganizeYourLife, FocusTools, WorkProductivity, StudySmart, DigitalTools, ProductivityBoosters, WorkLifeBalance, IncreaseEfficiency, DailyProductivity, GetThingsDone, EffectiveTools, TimeSavingApps, WorkSmart, ProductivityEnhancement, OptimizeWork, TechEfficiency, BetterProductivity\\n\\nhashtags:\\n#ProductivityTools, #EfficiencyHacks, #TimeManagement, #BoostProductivity, #ProductivityApps, #WorkSmarter, #StayFocused, #TechTips, #Evernote, #GoogleKeep, #Grammarly, #ForestApp, #RescueTime, #TabSessionManager, #Notion, #StudentLife, #StudyTips, #ProductivityHacks, #OrganizationTools, #ProductivityBoost, #WorkEfficiency, #GetOrganized, #TechForProductivity, #IncreaseProductivity, #DailyRoutine\\n---------------------------------------------------------------------\\nAlso, Subscribe if you haven't already! :)\\n\\n#GeeksforGeeks #Learntocode #GFG\"],\n",
       " ['Lecture -1 Introduction to Sorting Algorithms - Overview & Special Cases| GeeksforGeeks',\n",
       "  'Jun 10, 2024',\n",
       "  '135',\n",
       "  '4,284 views',\n",
       "  'https://www.youtube.com/watch?v=cqBW7BgN7Zs',\n",
       "  \"Get started with Sorting algorithms with the simplest and the most effective video explanation ever! This lecture is a part of the DSA Self-Paced Course by CEO & Founder Sandeep Jain. \\n\\nFor next videos, check out the full playlist: \\xa0\\xa0\\xa0•\\xa0Free\\xa0Preview\\xa0of\\xa0DSA\\xa0Self-Paced\\xa0Course...\\xa0\\xa0\\n\\nDon't forget to subscribe and hit the bell icon to stay updated when the next lecture of this series comes.\\n\\nCheck out the full DSA self-paced course to practice questions on sorting algo and to master all the other important DSA concepts before your next interview: https://www.geeksforgeeks.org/courses...\\n\\nExplore other Premium LIVE and Online Courses : \\nhttps://practice.geeksforgeeks.org/co...\\n\\nFollow us for more fun, knowledge and resources:\\n\\n📱 Download GeeksforGeeks' Official App: https://geeksforgeeksapp.page.link/gf...\\n\\n💬 Twitter- \\xa0\\xa0/\\xa0geeksforgeeks\\xa0\\xa0 \\n\\n 🧑\\u200d💼 LinkedIn- \\xa0\\xa0/\\xa0geeksforgeeks\\xa0\\xa0\\n\\n📷 Instagram- https://www.instagram.com/geeks_for_g... \\n\\n💌 Telegram- https://t.me/s/geeksforgeeks_official \\n\\nAlso, Subscribe if you haven't already! :)\\n\\n#GeeksforGeeks #Learntocode #sortingalgorithms #dsa #dsagfgcourse #sandeepjaindsa #sandeepjain\"],\n",
       " ['Get 40LPA+ Jobs - Top MERN Stack Interview Questions 2024 🧑\\u200d💻| MongoDB |ReactJS | ExpressJS |NodeJS',\n",
       "  'Jun 10, 2024',\n",
       "  '52',\n",
       "  '938 views',\n",
       "  'https://www.youtube.com/watch?v=EhjCmg7qiTk',\n",
       "  \"The Ultimate Roadmap for MERN Stack aspirants 🧑\\u200d💻| MongoDB | ReactJS | ExpressJS | NodeJS | GFG\\n---------------------------------\\nQuestion Banks:\\nHacker Rank: https://www.hackerrank.com/blog/wp-co....\\n\\nGFG: https://www.geeksforgeeks.org/full-st...\\n\\nInterviewBit: https://www.interviewbit.com/full-sta...\\n\\nSome Job Openings -\\nDigiPlus (4-7 LPA) - https://www.naukri.com/job-listings-m...\\n\\nCodeFast Tech (3 LPA) - https://www.naukri.com/job-listings-u...\\n\\nOutScal Tech (15-30 LPA ) - https://www.naukri.com/job-listings-f...\\n\\nJob Portals Having MERN Stack Jobs\\n\\nNaukri.com - https://www.naukri.com/full-stack-job...\\n\\nLinkedIn - https://www.linkedin.com/jobs/search/...\\n\\nInstaHire - https://www.instahyre.com/\\n---------------------------------------\\n0.00 - Introduction\\n0.18 - Who is a MERN Developer\\n1.45 - MongoDB\\n3.18 - ExpressJS\\n4.18 - NodeJS\\n5.17 - ReactJS\\n7.00 - Tips for learning MERN\\n8.15 - Roadmap and Resources\\n9.00 - Conclusion\\n------------------------------------------\\nExplore Premium LIVE and Online Courses : \\nhttps://practice.geeksforgeeks.org/co...\\n\\nFollow us for more fun, knowledge and resources:\\n\\n📱 Download GeeksforGeeks' Official App: https://geeksforgeeksapp.page.link/gf...\\n\\n💬 Twitter- \\xa0\\xa0/\\xa0geeksforgeeks\\xa0\\xa0 \\n\\n 🧑\\u200d💼 LinkedIn- \\xa0\\xa0/\\xa0geeksforgeeks\\xa0\\xa0\\n\\n📷 Instagram- https://www.instagram.com/geeks_for_g... \\n\\n💌 Telegram- https://t.me/s/geeksforgeeks_official \\n\\nAlso, Subscribe if you haven't already! :)\\n------------------------------------------------------\\ntags:\\nMERNDevelopment, MERNFramework, MongoDBLearning, ExpressJSTutorial, NodeJSTips, ReactJSGuide, MERNStackDeveloper, FullStackCoding, WebDevJourney, JavaScriptDevelopment, BackendCoding, FrontendCoding, DevTips, LearningResources, CodeRoadmap, TechJourney, ProgrammingGuide, TechLearning, DevResources, MERNStackTips\\n\\nhashtags:\\n#MERNDeveloper, #MongoDB, #ExpressJS, #NodeJS, #ReactJS, #LearnMERN, #MERNStack, #WebDevelopment, #CodingTips, #DeveloperTips, #TechRoadmap, #ProgrammingResources, #FullStackDeveloper, #JavaScript, #BackendDevelopment, #FrontendDevelopment, #TechSkills, #CodingJourney, #DevCommunity, #TechTutorials, #MERNStackLearning, #WebDevResources, #CodeBetter, #MERNFramework, #techeducation\\n#GeeksforGeeks #Learntocode #GFG\"]]"
      ]
     },
     "execution_count": 38,
     "metadata": {},
     "output_type": "execute_result"
    }
   ],
   "source": [
    "data"
   ]
  },
  {
   "cell_type": "code",
   "execution_count": 36,
   "id": "69f4fde7",
   "metadata": {},
   "outputs": [],
   "source": [
    "df = pd.DataFrame(data, columns = ['title','data_time', 'like', 'views', 'link', 'description'])"
   ]
  },
  {
   "cell_type": "code",
   "execution_count": 37,
   "id": "02dc057c",
   "metadata": {},
   "outputs": [
    {
     "data": {
      "text/html": [
       "<div>\n",
       "<style scoped>\n",
       "    .dataframe tbody tr th:only-of-type {\n",
       "        vertical-align: middle;\n",
       "    }\n",
       "\n",
       "    .dataframe tbody tr th {\n",
       "        vertical-align: top;\n",
       "    }\n",
       "\n",
       "    .dataframe thead th {\n",
       "        text-align: right;\n",
       "    }\n",
       "</style>\n",
       "<table border=\"1\" class=\"dataframe\">\n",
       "  <thead>\n",
       "    <tr style=\"text-align: right;\">\n",
       "      <th></th>\n",
       "      <th>title</th>\n",
       "      <th>data_time</th>\n",
       "      <th>like</th>\n",
       "      <th>views</th>\n",
       "      <th>link</th>\n",
       "      <th>description</th>\n",
       "    </tr>\n",
       "  </thead>\n",
       "  <tbody>\n",
       "    <tr>\n",
       "      <th>0</th>\n",
       "      <td>Learn Selection Sort Algorithm | ‪@SandeepJain...</td>\n",
       "      <td>Jun 24, 2024</td>\n",
       "      <td>19</td>\n",
       "      <td>349 views</td>\n",
       "      <td>https://www.youtube.com/watch?v=WYVKZ4Mla5c</td>\n",
       "      <td>Tired of messy data sets making your code cry?...</td>\n",
       "    </tr>\n",
       "    <tr>\n",
       "      <th>1</th>\n",
       "      <td>Learn Bubble Sort in 12 minutes | ‪@SandeepJai...</td>\n",
       "      <td>Jun 22, 2024</td>\n",
       "      <td>27</td>\n",
       "      <td>831 views</td>\n",
       "      <td>https://www.youtube.com/watch?v=dMonTS71mEY</td>\n",
       "      <td>Hey are you done with our previous videos on s...</td>\n",
       "    </tr>\n",
       "    <tr>\n",
       "      <th>2</th>\n",
       "      <td>Lecture-6 Learn Stability in SORTING - Beginne...</td>\n",
       "      <td>Jun 20, 2024</td>\n",
       "      <td>17</td>\n",
       "      <td>540 views</td>\n",
       "      <td>https://www.youtube.com/watch?v=voH3da1RvbA</td>\n",
       "      <td>#sorting  Mastery: Unveiling the Secret of Sta...</td>\n",
       "    </tr>\n",
       "    <tr>\n",
       "      <th>3</th>\n",
       "      <td>GeeksforGeeks Classroom Program | Delhi/NCR | ...</td>\n",
       "      <td>Jun 20, 2024</td>\n",
       "      <td>24</td>\n",
       "      <td>1,090 views</td>\n",
       "      <td>https://www.youtube.com/watch?v=-R64PWJPf2k</td>\n",
       "      <td>Explore GfG Classroom Programs Near you and vi...</td>\n",
       "    </tr>\n",
       "    <tr>\n",
       "      <th>4</th>\n",
       "      <td>Lecture-5 Mastering Sorting Algorithms with Ja...</td>\n",
       "      <td>Jun 18, 2024</td>\n",
       "      <td>22</td>\n",
       "      <td>928 views</td>\n",
       "      <td>https://www.youtube.com/watch?v=VSy4TN2jyzE</td>\n",
       "      <td>Master Collection Sort Algorithms (Beginner-Fr...</td>\n",
       "    </tr>\n",
       "    <tr>\n",
       "      <th>5</th>\n",
       "      <td>Lecture-4  Arrays.sort() in Java Explained |  ...</td>\n",
       "      <td>Jun 15, 2024</td>\n",
       "      <td>25</td>\n",
       "      <td>859 views</td>\n",
       "      <td>https://www.youtube.com/watch?v=6mwz4JQ6Z50</td>\n",
       "      <td>Level Up Your Coding: Sorting Mastery in Array...</td>\n",
       "    </tr>\n",
       "    <tr>\n",
       "      <th>6</th>\n",
       "      <td>Lecture-3 Java Sorting Explained: Arrays vs. C...</td>\n",
       "      <td>Jun 13, 2024</td>\n",
       "      <td>34</td>\n",
       "      <td>1,129 views</td>\n",
       "      <td>https://www.youtube.com/watch?v=mUX5IfNwhjg</td>\n",
       "      <td>Level Up Your Coding: Sorting Mastery in Java ...</td>\n",
       "    </tr>\n",
       "    <tr>\n",
       "      <th>7</th>\n",
       "      <td>Lecture- 2 Mastering Sorting in C++: STL 'sort...</td>\n",
       "      <td>Jun 11, 2024</td>\n",
       "      <td>28</td>\n",
       "      <td>1,038 views</td>\n",
       "      <td>https://www.youtube.com/watch?v=tmESfVUaTog</td>\n",
       "      <td>Welcome to Lecture-2 of our Sorting Playlist. ...</td>\n",
       "    </tr>\n",
       "    <tr>\n",
       "      <th>8</th>\n",
       "      <td>7 Game-Changing Productivity Tools You Need to...</td>\n",
       "      <td>Jun 11, 2024</td>\n",
       "      <td>76</td>\n",
       "      <td>1,313 views</td>\n",
       "      <td>https://www.youtube.com/watch?v=gH-7ezHeuEo</td>\n",
       "      <td>7 Game-Changing Productivity Tools You Need to...</td>\n",
       "    </tr>\n",
       "    <tr>\n",
       "      <th>9</th>\n",
       "      <td>Lecture -1 Introduction to Sorting Algorithms ...</td>\n",
       "      <td>Jun 10, 2024</td>\n",
       "      <td>135</td>\n",
       "      <td>4,284 views</td>\n",
       "      <td>https://www.youtube.com/watch?v=cqBW7BgN7Zs</td>\n",
       "      <td>Get started with Sorting algorithms with the s...</td>\n",
       "    </tr>\n",
       "    <tr>\n",
       "      <th>10</th>\n",
       "      <td>Get 40LPA+ Jobs - Top MERN Stack Interview Que...</td>\n",
       "      <td>Jun 10, 2024</td>\n",
       "      <td>52</td>\n",
       "      <td>938 views</td>\n",
       "      <td>https://www.youtube.com/watch?v=EhjCmg7qiTk</td>\n",
       "      <td>The Ultimate Roadmap for MERN Stack aspirants ...</td>\n",
       "    </tr>\n",
       "  </tbody>\n",
       "</table>\n",
       "</div>"
      ],
      "text/plain": [
       "                                                title     data_time like  \\\n",
       "0   Learn Selection Sort Algorithm | ‪@SandeepJain...  Jun 24, 2024   19   \n",
       "1   Learn Bubble Sort in 12 minutes | ‪@SandeepJai...  Jun 22, 2024   27   \n",
       "2   Lecture-6 Learn Stability in SORTING - Beginne...  Jun 20, 2024   17   \n",
       "3   GeeksforGeeks Classroom Program | Delhi/NCR | ...  Jun 20, 2024   24   \n",
       "4   Lecture-5 Mastering Sorting Algorithms with Ja...  Jun 18, 2024   22   \n",
       "5   Lecture-4  Arrays.sort() in Java Explained |  ...  Jun 15, 2024   25   \n",
       "6   Lecture-3 Java Sorting Explained: Arrays vs. C...  Jun 13, 2024   34   \n",
       "7   Lecture- 2 Mastering Sorting in C++: STL 'sort...  Jun 11, 2024   28   \n",
       "8   7 Game-Changing Productivity Tools You Need to...  Jun 11, 2024   76   \n",
       "9   Lecture -1 Introduction to Sorting Algorithms ...  Jun 10, 2024  135   \n",
       "10  Get 40LPA+ Jobs - Top MERN Stack Interview Que...  Jun 10, 2024   52   \n",
       "\n",
       "          views                                         link  \\\n",
       "0     349 views  https://www.youtube.com/watch?v=WYVKZ4Mla5c   \n",
       "1     831 views  https://www.youtube.com/watch?v=dMonTS71mEY   \n",
       "2     540 views  https://www.youtube.com/watch?v=voH3da1RvbA   \n",
       "3   1,090 views  https://www.youtube.com/watch?v=-R64PWJPf2k   \n",
       "4     928 views  https://www.youtube.com/watch?v=VSy4TN2jyzE   \n",
       "5     859 views  https://www.youtube.com/watch?v=6mwz4JQ6Z50   \n",
       "6   1,129 views  https://www.youtube.com/watch?v=mUX5IfNwhjg   \n",
       "7   1,038 views  https://www.youtube.com/watch?v=tmESfVUaTog   \n",
       "8   1,313 views  https://www.youtube.com/watch?v=gH-7ezHeuEo   \n",
       "9   4,284 views  https://www.youtube.com/watch?v=cqBW7BgN7Zs   \n",
       "10    938 views  https://www.youtube.com/watch?v=EhjCmg7qiTk   \n",
       "\n",
       "                                          description  \n",
       "0   Tired of messy data sets making your code cry?...  \n",
       "1   Hey are you done with our previous videos on s...  \n",
       "2   #sorting  Mastery: Unveiling the Secret of Sta...  \n",
       "3   Explore GfG Classroom Programs Near you and vi...  \n",
       "4   Master Collection Sort Algorithms (Beginner-Fr...  \n",
       "5   Level Up Your Coding: Sorting Mastery in Array...  \n",
       "6   Level Up Your Coding: Sorting Mastery in Java ...  \n",
       "7   Welcome to Lecture-2 of our Sorting Playlist. ...  \n",
       "8   7 Game-Changing Productivity Tools You Need to...  \n",
       "9   Get started with Sorting algorithms with the s...  \n",
       "10  The Ultimate Roadmap for MERN Stack aspirants ...  "
      ]
     },
     "execution_count": 37,
     "metadata": {},
     "output_type": "execute_result"
    }
   ],
   "source": [
    "df"
   ]
  },
  {
   "cell_type": "code",
   "execution_count": null,
   "id": "5ae958bf",
   "metadata": {},
   "outputs": [],
   "source": []
  }
 ],
 "metadata": {
  "kernelspec": {
   "display_name": "Python 3 (ipykernel)",
   "language": "python",
   "name": "python3"
  },
  "language_info": {
   "codemirror_mode": {
    "name": "ipython",
    "version": 3
   },
   "file_extension": ".py",
   "mimetype": "text/x-python",
   "name": "python",
   "nbconvert_exporter": "python",
   "pygments_lexer": "ipython3",
   "version": "3.12.4"
  }
 },
 "nbformat": 4,
 "nbformat_minor": 5
}
